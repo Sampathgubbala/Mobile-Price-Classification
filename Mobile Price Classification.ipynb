{
 "cells": [
  {
   "cell_type": "code",
   "execution_count": 53,
   "metadata": {},
   "outputs": [],
   "source": [
    "import pandas as pd\n",
    "import numpy as np\n",
    "import matplotlib.pyplot as plt\n",
    "import seaborn as sns\n",
    "from sklearn.svm import SVC\n",
    "from sklearn.metrics import accuracy_score , confusion_matrix\n",
    "import time\n",
    "from sklearn.tree import DecisionTreeClassifier\n",
    "from xgboost import XGBClassifier\n",
    "from sklearn.preprocessing import StandardScaler , LabelEncoder , OneHotEncoder\n",
    "import seaborn as Sb"
   ]
  },
  {
   "cell_type": "markdown",
   "metadata": {},
   "source": [
    "# Importing and Setting Data"
   ]
  },
  {
   "cell_type": "code",
   "execution_count": 6,
   "metadata": {},
   "outputs": [],
   "source": [
    "df=pd.read_csv('Desktop/mobile-price-classification/train.csv')"
   ]
  },
  {
   "cell_type": "code",
   "execution_count": 7,
   "metadata": {},
   "outputs": [],
   "source": [
    "df.price_range.median()\n",
    "df['Price']=df['price_range'].median()\n",
    "df.loc[df['price_range'] > df['Price'],'Price']=1\n",
    "df.loc[df['price_range'] < df['Price'],'Price']=0\n",
    "df.drop(['price_range'],axis=1,inplace=True)"
   ]
  },
  {
   "cell_type": "code",
   "execution_count": 56,
   "metadata": {},
   "outputs": [
    {
     "data": {
      "text/html": [
       "<style  type=\"text/css\" >\n",
       "    #T_9e8e68b8_6254_11ea_af25_f018988e8c63row0_col0 {\n",
       "            background-color:  #006837;\n",
       "            color:  #f1f1f1;\n",
       "        }    #T_9e8e68b8_6254_11ea_af25_f018988e8c63row0_col1 {\n",
       "            background-color:  #be1827;\n",
       "            color:  #f1f1f1;\n",
       "        }    #T_9e8e68b8_6254_11ea_af25_f018988e8c63row0_col2 {\n",
       "            background-color:  #be1827;\n",
       "            color:  #f1f1f1;\n",
       "        }    #T_9e8e68b8_6254_11ea_af25_f018988e8c63row0_col3 {\n",
       "            background-color:  #a50026;\n",
       "            color:  #f1f1f1;\n",
       "        }    #T_9e8e68b8_6254_11ea_af25_f018988e8c63row0_col4 {\n",
       "            background-color:  #c82227;\n",
       "            color:  #f1f1f1;\n",
       "        }    #T_9e8e68b8_6254_11ea_af25_f018988e8c63row0_col5 {\n",
       "            background-color:  #c01a27;\n",
       "            color:  #f1f1f1;\n",
       "        }    #T_9e8e68b8_6254_11ea_af25_f018988e8c63row0_col6 {\n",
       "            background-color:  #b71126;\n",
       "            color:  #f1f1f1;\n",
       "        }    #T_9e8e68b8_6254_11ea_af25_f018988e8c63row0_col7 {\n",
       "            background-color:  #c82227;\n",
       "            color:  #f1f1f1;\n",
       "        }    #T_9e8e68b8_6254_11ea_af25_f018988e8c63row0_col8 {\n",
       "            background-color:  #bb1526;\n",
       "            color:  #f1f1f1;\n",
       "        }    #T_9e8e68b8_6254_11ea_af25_f018988e8c63row0_col9 {\n",
       "            background-color:  #ab0626;\n",
       "            color:  #f1f1f1;\n",
       "        }    #T_9e8e68b8_6254_11ea_af25_f018988e8c63row0_col10 {\n",
       "            background-color:  #ab0626;\n",
       "            color:  #f1f1f1;\n",
       "        }    #T_9e8e68b8_6254_11ea_af25_f018988e8c63row1_col0 {\n",
       "            background-color:  #be1827;\n",
       "            color:  #f1f1f1;\n",
       "        }    #T_9e8e68b8_6254_11ea_af25_f018988e8c63row1_col1 {\n",
       "            background-color:  #006837;\n",
       "            color:  #f1f1f1;\n",
       "        }    #T_9e8e68b8_6254_11ea_af25_f018988e8c63row1_col2 {\n",
       "            background-color:  #c21c27;\n",
       "            color:  #f1f1f1;\n",
       "        }    #T_9e8e68b8_6254_11ea_af25_f018988e8c63row1_col3 {\n",
       "            background-color:  #ca2427;\n",
       "            color:  #f1f1f1;\n",
       "        }    #T_9e8e68b8_6254_11ea_af25_f018988e8c63row1_col4 {\n",
       "            background-color:  #bb1526;\n",
       "            color:  #f1f1f1;\n",
       "        }    #T_9e8e68b8_6254_11ea_af25_f018988e8c63row1_col5 {\n",
       "            background-color:  #be1827;\n",
       "            color:  #f1f1f1;\n",
       "        }    #T_9e8e68b8_6254_11ea_af25_f018988e8c63row1_col6 {\n",
       "            background-color:  #cc2627;\n",
       "            color:  #f1f1f1;\n",
       "        }    #T_9e8e68b8_6254_11ea_af25_f018988e8c63row1_col7 {\n",
       "            background-color:  #bb1526;\n",
       "            color:  #f1f1f1;\n",
       "        }    #T_9e8e68b8_6254_11ea_af25_f018988e8c63row1_col8 {\n",
       "            background-color:  #b50f26;\n",
       "            color:  #f1f1f1;\n",
       "        }    #T_9e8e68b8_6254_11ea_af25_f018988e8c63row1_col9 {\n",
       "            background-color:  #ca2427;\n",
       "            color:  #f1f1f1;\n",
       "        }    #T_9e8e68b8_6254_11ea_af25_f018988e8c63row1_col10 {\n",
       "            background-color:  #b71126;\n",
       "            color:  #f1f1f1;\n",
       "        }    #T_9e8e68b8_6254_11ea_af25_f018988e8c63row2_col0 {\n",
       "            background-color:  #be1827;\n",
       "            color:  #f1f1f1;\n",
       "        }    #T_9e8e68b8_6254_11ea_af25_f018988e8c63row2_col1 {\n",
       "            background-color:  #c21c27;\n",
       "            color:  #f1f1f1;\n",
       "        }    #T_9e8e68b8_6254_11ea_af25_f018988e8c63row2_col2 {\n",
       "            background-color:  #006837;\n",
       "            color:  #f1f1f1;\n",
       "        }    #T_9e8e68b8_6254_11ea_af25_f018988e8c63row2_col3 {\n",
       "            background-color:  #b91326;\n",
       "            color:  #f1f1f1;\n",
       "        }    #T_9e8e68b8_6254_11ea_af25_f018988e8c63row2_col4 {\n",
       "            background-color:  #b91326;\n",
       "            color:  #f1f1f1;\n",
       "        }    #T_9e8e68b8_6254_11ea_af25_f018988e8c63row2_col5 {\n",
       "            background-color:  #a50026;\n",
       "            color:  #f1f1f1;\n",
       "        }    #T_9e8e68b8_6254_11ea_af25_f018988e8c63row2_col6 {\n",
       "            background-color:  #bd1726;\n",
       "            color:  #f1f1f1;\n",
       "        }    #T_9e8e68b8_6254_11ea_af25_f018988e8c63row2_col7 {\n",
       "            background-color:  #b30d26;\n",
       "            color:  #f1f1f1;\n",
       "        }    #T_9e8e68b8_6254_11ea_af25_f018988e8c63row2_col8 {\n",
       "            background-color:  #be1827;\n",
       "            color:  #f1f1f1;\n",
       "        }    #T_9e8e68b8_6254_11ea_af25_f018988e8c63row2_col9 {\n",
       "            background-color:  #b71126;\n",
       "            color:  #f1f1f1;\n",
       "        }    #T_9e8e68b8_6254_11ea_af25_f018988e8c63row2_col10 {\n",
       "            background-color:  #ab0626;\n",
       "            color:  #f1f1f1;\n",
       "        }    #T_9e8e68b8_6254_11ea_af25_f018988e8c63row3_col0 {\n",
       "            background-color:  #a50026;\n",
       "            color:  #f1f1f1;\n",
       "        }    #T_9e8e68b8_6254_11ea_af25_f018988e8c63row3_col1 {\n",
       "            background-color:  #ca2427;\n",
       "            color:  #f1f1f1;\n",
       "        }    #T_9e8e68b8_6254_11ea_af25_f018988e8c63row3_col2 {\n",
       "            background-color:  #b91326;\n",
       "            color:  #f1f1f1;\n",
       "        }    #T_9e8e68b8_6254_11ea_af25_f018988e8c63row3_col3 {\n",
       "            background-color:  #006837;\n",
       "            color:  #f1f1f1;\n",
       "        }    #T_9e8e68b8_6254_11ea_af25_f018988e8c63row3_col4 {\n",
       "            background-color:  #ab0626;\n",
       "            color:  #f1f1f1;\n",
       "        }    #T_9e8e68b8_6254_11ea_af25_f018988e8c63row3_col5 {\n",
       "            background-color:  #bb1526;\n",
       "            color:  #f1f1f1;\n",
       "        }    #T_9e8e68b8_6254_11ea_af25_f018988e8c63row3_col6 {\n",
       "            background-color:  #b10b26;\n",
       "            color:  #f1f1f1;\n",
       "        }    #T_9e8e68b8_6254_11ea_af25_f018988e8c63row3_col7 {\n",
       "            background-color:  #af0926;\n",
       "            color:  #f1f1f1;\n",
       "        }    #T_9e8e68b8_6254_11ea_af25_f018988e8c63row3_col8 {\n",
       "            background-color:  #b50f26;\n",
       "            color:  #f1f1f1;\n",
       "        }    #T_9e8e68b8_6254_11ea_af25_f018988e8c63row3_col9 {\n",
       "            background-color:  #ad0826;\n",
       "            color:  #f1f1f1;\n",
       "        }    #T_9e8e68b8_6254_11ea_af25_f018988e8c63row3_col10 {\n",
       "            background-color:  #b30d26;\n",
       "            color:  #f1f1f1;\n",
       "        }    #T_9e8e68b8_6254_11ea_af25_f018988e8c63row4_col0 {\n",
       "            background-color:  #c82227;\n",
       "            color:  #f1f1f1;\n",
       "        }    #T_9e8e68b8_6254_11ea_af25_f018988e8c63row4_col1 {\n",
       "            background-color:  #bb1526;\n",
       "            color:  #f1f1f1;\n",
       "        }    #T_9e8e68b8_6254_11ea_af25_f018988e8c63row4_col2 {\n",
       "            background-color:  #b91326;\n",
       "            color:  #f1f1f1;\n",
       "        }    #T_9e8e68b8_6254_11ea_af25_f018988e8c63row4_col3 {\n",
       "            background-color:  #ab0626;\n",
       "            color:  #f1f1f1;\n",
       "        }    #T_9e8e68b8_6254_11ea_af25_f018988e8c63row4_col4 {\n",
       "            background-color:  #006837;\n",
       "            color:  #f1f1f1;\n",
       "        }    #T_9e8e68b8_6254_11ea_af25_f018988e8c63row4_col5 {\n",
       "            background-color:  #b10b26;\n",
       "            color:  #f1f1f1;\n",
       "        }    #T_9e8e68b8_6254_11ea_af25_f018988e8c63row4_col6 {\n",
       "            background-color:  #ab0626;\n",
       "            color:  #f1f1f1;\n",
       "        }    #T_9e8e68b8_6254_11ea_af25_f018988e8c63row4_col7 {\n",
       "            background-color:  #b91326;\n",
       "            color:  #f1f1f1;\n",
       "        }    #T_9e8e68b8_6254_11ea_af25_f018988e8c63row4_col8 {\n",
       "            background-color:  #c41e27;\n",
       "            color:  #f1f1f1;\n",
       "        }    #T_9e8e68b8_6254_11ea_af25_f018988e8c63row4_col9 {\n",
       "            background-color:  #b30d26;\n",
       "            color:  #f1f1f1;\n",
       "        }    #T_9e8e68b8_6254_11ea_af25_f018988e8c63row4_col10 {\n",
       "            background-color:  #b30d26;\n",
       "            color:  #f1f1f1;\n",
       "        }    #T_9e8e68b8_6254_11ea_af25_f018988e8c63row5_col0 {\n",
       "            background-color:  #c01a27;\n",
       "            color:  #f1f1f1;\n",
       "        }    #T_9e8e68b8_6254_11ea_af25_f018988e8c63row5_col1 {\n",
       "            background-color:  #be1827;\n",
       "            color:  #f1f1f1;\n",
       "        }    #T_9e8e68b8_6254_11ea_af25_f018988e8c63row5_col2 {\n",
       "            background-color:  #a50026;\n",
       "            color:  #f1f1f1;\n",
       "        }    #T_9e8e68b8_6254_11ea_af25_f018988e8c63row5_col3 {\n",
       "            background-color:  #bb1526;\n",
       "            color:  #f1f1f1;\n",
       "        }    #T_9e8e68b8_6254_11ea_af25_f018988e8c63row5_col4 {\n",
       "            background-color:  #b10b26;\n",
       "            color:  #f1f1f1;\n",
       "        }    #T_9e8e68b8_6254_11ea_af25_f018988e8c63row5_col5 {\n",
       "            background-color:  #006837;\n",
       "            color:  #f1f1f1;\n",
       "        }    #T_9e8e68b8_6254_11ea_af25_f018988e8c63row5_col6 {\n",
       "            background-color:  #bd1726;\n",
       "            color:  #f1f1f1;\n",
       "        }    #T_9e8e68b8_6254_11ea_af25_f018988e8c63row5_col7 {\n",
       "            background-color:  #b91326;\n",
       "            color:  #f1f1f1;\n",
       "        }    #T_9e8e68b8_6254_11ea_af25_f018988e8c63row5_col8 {\n",
       "            background-color:  #b10b26;\n",
       "            color:  #f1f1f1;\n",
       "        }    #T_9e8e68b8_6254_11ea_af25_f018988e8c63row5_col9 {\n",
       "            background-color:  #ab0626;\n",
       "            color:  #f1f1f1;\n",
       "        }    #T_9e8e68b8_6254_11ea_af25_f018988e8c63row5_col10 {\n",
       "            background-color:  #c62027;\n",
       "            color:  #f1f1f1;\n",
       "        }    #T_9e8e68b8_6254_11ea_af25_f018988e8c63row6_col0 {\n",
       "            background-color:  #b71126;\n",
       "            color:  #f1f1f1;\n",
       "        }    #T_9e8e68b8_6254_11ea_af25_f018988e8c63row6_col1 {\n",
       "            background-color:  #cc2627;\n",
       "            color:  #f1f1f1;\n",
       "        }    #T_9e8e68b8_6254_11ea_af25_f018988e8c63row6_col2 {\n",
       "            background-color:  #bd1726;\n",
       "            color:  #f1f1f1;\n",
       "        }    #T_9e8e68b8_6254_11ea_af25_f018988e8c63row6_col3 {\n",
       "            background-color:  #b10b26;\n",
       "            color:  #f1f1f1;\n",
       "        }    #T_9e8e68b8_6254_11ea_af25_f018988e8c63row6_col4 {\n",
       "            background-color:  #ab0626;\n",
       "            color:  #f1f1f1;\n",
       "        }    #T_9e8e68b8_6254_11ea_af25_f018988e8c63row6_col5 {\n",
       "            background-color:  #bd1726;\n",
       "            color:  #f1f1f1;\n",
       "        }    #T_9e8e68b8_6254_11ea_af25_f018988e8c63row6_col6 {\n",
       "            background-color:  #006837;\n",
       "            color:  #f1f1f1;\n",
       "        }    #T_9e8e68b8_6254_11ea_af25_f018988e8c63row6_col7 {\n",
       "            background-color:  #bd1726;\n",
       "            color:  #f1f1f1;\n",
       "        }    #T_9e8e68b8_6254_11ea_af25_f018988e8c63row6_col8 {\n",
       "            background-color:  #a90426;\n",
       "            color:  #f1f1f1;\n",
       "        }    #T_9e8e68b8_6254_11ea_af25_f018988e8c63row6_col9 {\n",
       "            background-color:  #ab0626;\n",
       "            color:  #f1f1f1;\n",
       "        }    #T_9e8e68b8_6254_11ea_af25_f018988e8c63row6_col10 {\n",
       "            background-color:  #ca2427;\n",
       "            color:  #f1f1f1;\n",
       "        }    #T_9e8e68b8_6254_11ea_af25_f018988e8c63row7_col0 {\n",
       "            background-color:  #c82227;\n",
       "            color:  #f1f1f1;\n",
       "        }    #T_9e8e68b8_6254_11ea_af25_f018988e8c63row7_col1 {\n",
       "            background-color:  #bb1526;\n",
       "            color:  #f1f1f1;\n",
       "        }    #T_9e8e68b8_6254_11ea_af25_f018988e8c63row7_col2 {\n",
       "            background-color:  #b30d26;\n",
       "            color:  #f1f1f1;\n",
       "        }    #T_9e8e68b8_6254_11ea_af25_f018988e8c63row7_col3 {\n",
       "            background-color:  #af0926;\n",
       "            color:  #f1f1f1;\n",
       "        }    #T_9e8e68b8_6254_11ea_af25_f018988e8c63row7_col4 {\n",
       "            background-color:  #b91326;\n",
       "            color:  #f1f1f1;\n",
       "        }    #T_9e8e68b8_6254_11ea_af25_f018988e8c63row7_col5 {\n",
       "            background-color:  #b91326;\n",
       "            color:  #f1f1f1;\n",
       "        }    #T_9e8e68b8_6254_11ea_af25_f018988e8c63row7_col6 {\n",
       "            background-color:  #bd1726;\n",
       "            color:  #f1f1f1;\n",
       "        }    #T_9e8e68b8_6254_11ea_af25_f018988e8c63row7_col7 {\n",
       "            background-color:  #006837;\n",
       "            color:  #f1f1f1;\n",
       "        }    #T_9e8e68b8_6254_11ea_af25_f018988e8c63row7_col8 {\n",
       "            background-color:  #c21c27;\n",
       "            color:  #f1f1f1;\n",
       "        }    #T_9e8e68b8_6254_11ea_af25_f018988e8c63row7_col9 {\n",
       "            background-color:  #b71126;\n",
       "            color:  #f1f1f1;\n",
       "        }    #T_9e8e68b8_6254_11ea_af25_f018988e8c63row7_col10 {\n",
       "            background-color:  #ad0826;\n",
       "            color:  #f1f1f1;\n",
       "        }    #T_9e8e68b8_6254_11ea_af25_f018988e8c63row8_col0 {\n",
       "            background-color:  #bb1526;\n",
       "            color:  #f1f1f1;\n",
       "        }    #T_9e8e68b8_6254_11ea_af25_f018988e8c63row8_col1 {\n",
       "            background-color:  #b50f26;\n",
       "            color:  #f1f1f1;\n",
       "        }    #T_9e8e68b8_6254_11ea_af25_f018988e8c63row8_col2 {\n",
       "            background-color:  #be1827;\n",
       "            color:  #f1f1f1;\n",
       "        }    #T_9e8e68b8_6254_11ea_af25_f018988e8c63row8_col3 {\n",
       "            background-color:  #b50f26;\n",
       "            color:  #f1f1f1;\n",
       "        }    #T_9e8e68b8_6254_11ea_af25_f018988e8c63row8_col4 {\n",
       "            background-color:  #c41e27;\n",
       "            color:  #f1f1f1;\n",
       "        }    #T_9e8e68b8_6254_11ea_af25_f018988e8c63row8_col5 {\n",
       "            background-color:  #b10b26;\n",
       "            color:  #f1f1f1;\n",
       "        }    #T_9e8e68b8_6254_11ea_af25_f018988e8c63row8_col6 {\n",
       "            background-color:  #a90426;\n",
       "            color:  #f1f1f1;\n",
       "        }    #T_9e8e68b8_6254_11ea_af25_f018988e8c63row8_col7 {\n",
       "            background-color:  #c21c27;\n",
       "            color:  #f1f1f1;\n",
       "        }    #T_9e8e68b8_6254_11ea_af25_f018988e8c63row8_col8 {\n",
       "            background-color:  #006837;\n",
       "            color:  #f1f1f1;\n",
       "        }    #T_9e8e68b8_6254_11ea_af25_f018988e8c63row8_col9 {\n",
       "            background-color:  #af0926;\n",
       "            color:  #f1f1f1;\n",
       "        }    #T_9e8e68b8_6254_11ea_af25_f018988e8c63row8_col10 {\n",
       "            background-color:  #a90426;\n",
       "            color:  #f1f1f1;\n",
       "        }    #T_9e8e68b8_6254_11ea_af25_f018988e8c63row9_col0 {\n",
       "            background-color:  #ab0626;\n",
       "            color:  #f1f1f1;\n",
       "        }    #T_9e8e68b8_6254_11ea_af25_f018988e8c63row9_col1 {\n",
       "            background-color:  #ca2427;\n",
       "            color:  #f1f1f1;\n",
       "        }    #T_9e8e68b8_6254_11ea_af25_f018988e8c63row9_col2 {\n",
       "            background-color:  #b71126;\n",
       "            color:  #f1f1f1;\n",
       "        }    #T_9e8e68b8_6254_11ea_af25_f018988e8c63row9_col3 {\n",
       "            background-color:  #ad0826;\n",
       "            color:  #f1f1f1;\n",
       "        }    #T_9e8e68b8_6254_11ea_af25_f018988e8c63row9_col4 {\n",
       "            background-color:  #b30d26;\n",
       "            color:  #f1f1f1;\n",
       "        }    #T_9e8e68b8_6254_11ea_af25_f018988e8c63row9_col5 {\n",
       "            background-color:  #ab0626;\n",
       "            color:  #f1f1f1;\n",
       "        }    #T_9e8e68b8_6254_11ea_af25_f018988e8c63row9_col6 {\n",
       "            background-color:  #ab0626;\n",
       "            color:  #f1f1f1;\n",
       "        }    #T_9e8e68b8_6254_11ea_af25_f018988e8c63row9_col7 {\n",
       "            background-color:  #b71126;\n",
       "            color:  #f1f1f1;\n",
       "        }    #T_9e8e68b8_6254_11ea_af25_f018988e8c63row9_col8 {\n",
       "            background-color:  #af0926;\n",
       "            color:  #f1f1f1;\n",
       "        }    #T_9e8e68b8_6254_11ea_af25_f018988e8c63row9_col9 {\n",
       "            background-color:  #006837;\n",
       "            color:  #f1f1f1;\n",
       "        }    #T_9e8e68b8_6254_11ea_af25_f018988e8c63row9_col10 {\n",
       "            background-color:  #b91326;\n",
       "            color:  #f1f1f1;\n",
       "        }    #T_9e8e68b8_6254_11ea_af25_f018988e8c63row10_col0 {\n",
       "            background-color:  #ab0626;\n",
       "            color:  #f1f1f1;\n",
       "        }    #T_9e8e68b8_6254_11ea_af25_f018988e8c63row10_col1 {\n",
       "            background-color:  #b71126;\n",
       "            color:  #f1f1f1;\n",
       "        }    #T_9e8e68b8_6254_11ea_af25_f018988e8c63row10_col2 {\n",
       "            background-color:  #ab0626;\n",
       "            color:  #f1f1f1;\n",
       "        }    #T_9e8e68b8_6254_11ea_af25_f018988e8c63row10_col3 {\n",
       "            background-color:  #b30d26;\n",
       "            color:  #f1f1f1;\n",
       "        }    #T_9e8e68b8_6254_11ea_af25_f018988e8c63row10_col4 {\n",
       "            background-color:  #b30d26;\n",
       "            color:  #f1f1f1;\n",
       "        }    #T_9e8e68b8_6254_11ea_af25_f018988e8c63row10_col5 {\n",
       "            background-color:  #c62027;\n",
       "            color:  #f1f1f1;\n",
       "        }    #T_9e8e68b8_6254_11ea_af25_f018988e8c63row10_col6 {\n",
       "            background-color:  #ca2427;\n",
       "            color:  #f1f1f1;\n",
       "        }    #T_9e8e68b8_6254_11ea_af25_f018988e8c63row10_col7 {\n",
       "            background-color:  #ad0826;\n",
       "            color:  #f1f1f1;\n",
       "        }    #T_9e8e68b8_6254_11ea_af25_f018988e8c63row10_col8 {\n",
       "            background-color:  #a90426;\n",
       "            color:  #f1f1f1;\n",
       "        }    #T_9e8e68b8_6254_11ea_af25_f018988e8c63row10_col9 {\n",
       "            background-color:  #b91326;\n",
       "            color:  #f1f1f1;\n",
       "        }    #T_9e8e68b8_6254_11ea_af25_f018988e8c63row10_col10 {\n",
       "            background-color:  #006837;\n",
       "            color:  #f1f1f1;\n",
       "        }</style><table id=\"T_9e8e68b8_6254_11ea_af25_f018988e8c63\" ><thead>    <tr>        <th class=\"blank level0\" ></th>        <th class=\"col_heading level0 col0\" >battery_power</th>        <th class=\"col_heading level0 col1\" >blue</th>        <th class=\"col_heading level0 col2\" >clock_speed</th>        <th class=\"col_heading level0 col3\" >dual_sim</th>        <th class=\"col_heading level0 col4\" >fc</th>        <th class=\"col_heading level0 col5\" >four_g</th>        <th class=\"col_heading level0 col6\" >int_memory</th>        <th class=\"col_heading level0 col7\" >m_dep</th>        <th class=\"col_heading level0 col8\" >mobile_wt</th>        <th class=\"col_heading level0 col9\" >n_cores</th>        <th class=\"col_heading level0 col10\" >sc_h</th>    </tr></thead><tbody>\n",
       "                <tr>\n",
       "                        <th id=\"T_9e8e68b8_6254_11ea_af25_f018988e8c63level0_row0\" class=\"row_heading level0 row0\" >battery_power</th>\n",
       "                        <td id=\"T_9e8e68b8_6254_11ea_af25_f018988e8c63row0_col0\" class=\"data row0 col0\" >1</td>\n",
       "                        <td id=\"T_9e8e68b8_6254_11ea_af25_f018988e8c63row0_col1\" class=\"data row0 col1\" >0.011</td>\n",
       "                        <td id=\"T_9e8e68b8_6254_11ea_af25_f018988e8c63row0_col2\" class=\"data row0 col2\" >0.011</td>\n",
       "                        <td id=\"T_9e8e68b8_6254_11ea_af25_f018988e8c63row0_col3\" class=\"data row0 col3\" >-0.042</td>\n",
       "                        <td id=\"T_9e8e68b8_6254_11ea_af25_f018988e8c63row0_col4\" class=\"data row0 col4\" >0.033</td>\n",
       "                        <td id=\"T_9e8e68b8_6254_11ea_af25_f018988e8c63row0_col5\" class=\"data row0 col5\" >0.016</td>\n",
       "                        <td id=\"T_9e8e68b8_6254_11ea_af25_f018988e8c63row0_col6\" class=\"data row0 col6\" >-0.004</td>\n",
       "                        <td id=\"T_9e8e68b8_6254_11ea_af25_f018988e8c63row0_col7\" class=\"data row0 col7\" >0.034</td>\n",
       "                        <td id=\"T_9e8e68b8_6254_11ea_af25_f018988e8c63row0_col8\" class=\"data row0 col8\" >0.0018</td>\n",
       "                        <td id=\"T_9e8e68b8_6254_11ea_af25_f018988e8c63row0_col9\" class=\"data row0 col9\" >-0.03</td>\n",
       "                        <td id=\"T_9e8e68b8_6254_11ea_af25_f018988e8c63row0_col10\" class=\"data row0 col10\" >-0.03</td>\n",
       "            </tr>\n",
       "            <tr>\n",
       "                        <th id=\"T_9e8e68b8_6254_11ea_af25_f018988e8c63level0_row1\" class=\"row_heading level0 row1\" >blue</th>\n",
       "                        <td id=\"T_9e8e68b8_6254_11ea_af25_f018988e8c63row1_col0\" class=\"data row1 col0\" >0.011</td>\n",
       "                        <td id=\"T_9e8e68b8_6254_11ea_af25_f018988e8c63row1_col1\" class=\"data row1 col1\" >1</td>\n",
       "                        <td id=\"T_9e8e68b8_6254_11ea_af25_f018988e8c63row1_col2\" class=\"data row1 col2\" >0.021</td>\n",
       "                        <td id=\"T_9e8e68b8_6254_11ea_af25_f018988e8c63row1_col3\" class=\"data row1 col3\" >0.035</td>\n",
       "                        <td id=\"T_9e8e68b8_6254_11ea_af25_f018988e8c63row1_col4\" class=\"data row1 col4\" >0.0036</td>\n",
       "                        <td id=\"T_9e8e68b8_6254_11ea_af25_f018988e8c63row1_col5\" class=\"data row1 col5\" >0.013</td>\n",
       "                        <td id=\"T_9e8e68b8_6254_11ea_af25_f018988e8c63row1_col6\" class=\"data row1 col6\" >0.041</td>\n",
       "                        <td id=\"T_9e8e68b8_6254_11ea_af25_f018988e8c63row1_col7\" class=\"data row1 col7\" >0.004</td>\n",
       "                        <td id=\"T_9e8e68b8_6254_11ea_af25_f018988e8c63row1_col8\" class=\"data row1 col8\" >-0.0086</td>\n",
       "                        <td id=\"T_9e8e68b8_6254_11ea_af25_f018988e8c63row1_col9\" class=\"data row1 col9\" >0.036</td>\n",
       "                        <td id=\"T_9e8e68b8_6254_11ea_af25_f018988e8c63row1_col10\" class=\"data row1 col10\" >-0.003</td>\n",
       "            </tr>\n",
       "            <tr>\n",
       "                        <th id=\"T_9e8e68b8_6254_11ea_af25_f018988e8c63level0_row2\" class=\"row_heading level0 row2\" >clock_speed</th>\n",
       "                        <td id=\"T_9e8e68b8_6254_11ea_af25_f018988e8c63row2_col0\" class=\"data row2 col0\" >0.011</td>\n",
       "                        <td id=\"T_9e8e68b8_6254_11ea_af25_f018988e8c63row2_col1\" class=\"data row2 col1\" >0.021</td>\n",
       "                        <td id=\"T_9e8e68b8_6254_11ea_af25_f018988e8c63row2_col2\" class=\"data row2 col2\" >1</td>\n",
       "                        <td id=\"T_9e8e68b8_6254_11ea_af25_f018988e8c63row2_col3\" class=\"data row2 col3\" >-0.0013</td>\n",
       "                        <td id=\"T_9e8e68b8_6254_11ea_af25_f018988e8c63row2_col4\" class=\"data row2 col4\" >-0.0004</td>\n",
       "                        <td id=\"T_9e8e68b8_6254_11ea_af25_f018988e8c63row2_col5\" class=\"data row2 col5\" >-0.043</td>\n",
       "                        <td id=\"T_9e8e68b8_6254_11ea_af25_f018988e8c63row2_col6\" class=\"data row2 col6\" >0.0065</td>\n",
       "                        <td id=\"T_9e8e68b8_6254_11ea_af25_f018988e8c63row2_col7\" class=\"data row2 col7\" >-0.014</td>\n",
       "                        <td id=\"T_9e8e68b8_6254_11ea_af25_f018988e8c63row2_col8\" class=\"data row2 col8\" >0.012</td>\n",
       "                        <td id=\"T_9e8e68b8_6254_11ea_af25_f018988e8c63row2_col9\" class=\"data row2 col9\" >-0.0057</td>\n",
       "                        <td id=\"T_9e8e68b8_6254_11ea_af25_f018988e8c63row2_col10\" class=\"data row2 col10\" >-0.029</td>\n",
       "            </tr>\n",
       "            <tr>\n",
       "                        <th id=\"T_9e8e68b8_6254_11ea_af25_f018988e8c63level0_row3\" class=\"row_heading level0 row3\" >dual_sim</th>\n",
       "                        <td id=\"T_9e8e68b8_6254_11ea_af25_f018988e8c63row3_col0\" class=\"data row3 col0\" >-0.042</td>\n",
       "                        <td id=\"T_9e8e68b8_6254_11ea_af25_f018988e8c63row3_col1\" class=\"data row3 col1\" >0.035</td>\n",
       "                        <td id=\"T_9e8e68b8_6254_11ea_af25_f018988e8c63row3_col2\" class=\"data row3 col2\" >-0.0013</td>\n",
       "                        <td id=\"T_9e8e68b8_6254_11ea_af25_f018988e8c63row3_col3\" class=\"data row3 col3\" >1</td>\n",
       "                        <td id=\"T_9e8e68b8_6254_11ea_af25_f018988e8c63row3_col4\" class=\"data row3 col4\" >-0.029</td>\n",
       "                        <td id=\"T_9e8e68b8_6254_11ea_af25_f018988e8c63row3_col5\" class=\"data row3 col5\" >0.0032</td>\n",
       "                        <td id=\"T_9e8e68b8_6254_11ea_af25_f018988e8c63row3_col6\" class=\"data row3 col6\" >-0.016</td>\n",
       "                        <td id=\"T_9e8e68b8_6254_11ea_af25_f018988e8c63row3_col7\" class=\"data row3 col7\" >-0.022</td>\n",
       "                        <td id=\"T_9e8e68b8_6254_11ea_af25_f018988e8c63row3_col8\" class=\"data row3 col8\" >-0.009</td>\n",
       "                        <td id=\"T_9e8e68b8_6254_11ea_af25_f018988e8c63row3_col9\" class=\"data row3 col9\" >-0.025</td>\n",
       "                        <td id=\"T_9e8e68b8_6254_11ea_af25_f018988e8c63row3_col10\" class=\"data row3 col10\" >-0.012</td>\n",
       "            </tr>\n",
       "            <tr>\n",
       "                        <th id=\"T_9e8e68b8_6254_11ea_af25_f018988e8c63level0_row4\" class=\"row_heading level0 row4\" >fc</th>\n",
       "                        <td id=\"T_9e8e68b8_6254_11ea_af25_f018988e8c63row4_col0\" class=\"data row4 col0\" >0.033</td>\n",
       "                        <td id=\"T_9e8e68b8_6254_11ea_af25_f018988e8c63row4_col1\" class=\"data row4 col1\" >0.0036</td>\n",
       "                        <td id=\"T_9e8e68b8_6254_11ea_af25_f018988e8c63row4_col2\" class=\"data row4 col2\" >-0.0004</td>\n",
       "                        <td id=\"T_9e8e68b8_6254_11ea_af25_f018988e8c63row4_col3\" class=\"data row4 col3\" >-0.029</td>\n",
       "                        <td id=\"T_9e8e68b8_6254_11ea_af25_f018988e8c63row4_col4\" class=\"data row4 col4\" >1</td>\n",
       "                        <td id=\"T_9e8e68b8_6254_11ea_af25_f018988e8c63row4_col5\" class=\"data row4 col5\" >-0.017</td>\n",
       "                        <td id=\"T_9e8e68b8_6254_11ea_af25_f018988e8c63row4_col6\" class=\"data row4 col6\" >-0.029</td>\n",
       "                        <td id=\"T_9e8e68b8_6254_11ea_af25_f018988e8c63row4_col7\" class=\"data row4 col7\" >-0.0018</td>\n",
       "                        <td id=\"T_9e8e68b8_6254_11ea_af25_f018988e8c63row4_col8\" class=\"data row4 col8\" >0.024</td>\n",
       "                        <td id=\"T_9e8e68b8_6254_11ea_af25_f018988e8c63row4_col9\" class=\"data row4 col9\" >-0.013</td>\n",
       "                        <td id=\"T_9e8e68b8_6254_11ea_af25_f018988e8c63row4_col10\" class=\"data row4 col10\" >-0.011</td>\n",
       "            </tr>\n",
       "            <tr>\n",
       "                        <th id=\"T_9e8e68b8_6254_11ea_af25_f018988e8c63level0_row5\" class=\"row_heading level0 row5\" >four_g</th>\n",
       "                        <td id=\"T_9e8e68b8_6254_11ea_af25_f018988e8c63row5_col0\" class=\"data row5 col0\" >0.016</td>\n",
       "                        <td id=\"T_9e8e68b8_6254_11ea_af25_f018988e8c63row5_col1\" class=\"data row5 col1\" >0.013</td>\n",
       "                        <td id=\"T_9e8e68b8_6254_11ea_af25_f018988e8c63row5_col2\" class=\"data row5 col2\" >-0.043</td>\n",
       "                        <td id=\"T_9e8e68b8_6254_11ea_af25_f018988e8c63row5_col3\" class=\"data row5 col3\" >0.0032</td>\n",
       "                        <td id=\"T_9e8e68b8_6254_11ea_af25_f018988e8c63row5_col4\" class=\"data row5 col4\" >-0.017</td>\n",
       "                        <td id=\"T_9e8e68b8_6254_11ea_af25_f018988e8c63row5_col5\" class=\"data row5 col5\" >1</td>\n",
       "                        <td id=\"T_9e8e68b8_6254_11ea_af25_f018988e8c63row5_col6\" class=\"data row5 col6\" >0.0087</td>\n",
       "                        <td id=\"T_9e8e68b8_6254_11ea_af25_f018988e8c63row5_col7\" class=\"data row5 col7\" >-0.0018</td>\n",
       "                        <td id=\"T_9e8e68b8_6254_11ea_af25_f018988e8c63row5_col8\" class=\"data row5 col8\" >-0.017</td>\n",
       "                        <td id=\"T_9e8e68b8_6254_11ea_af25_f018988e8c63row5_col9\" class=\"data row5 col9\" >-0.03</td>\n",
       "                        <td id=\"T_9e8e68b8_6254_11ea_af25_f018988e8c63row5_col10\" class=\"data row5 col10\" >0.027</td>\n",
       "            </tr>\n",
       "            <tr>\n",
       "                        <th id=\"T_9e8e68b8_6254_11ea_af25_f018988e8c63level0_row6\" class=\"row_heading level0 row6\" >int_memory</th>\n",
       "                        <td id=\"T_9e8e68b8_6254_11ea_af25_f018988e8c63row6_col0\" class=\"data row6 col0\" >-0.004</td>\n",
       "                        <td id=\"T_9e8e68b8_6254_11ea_af25_f018988e8c63row6_col1\" class=\"data row6 col1\" >0.041</td>\n",
       "                        <td id=\"T_9e8e68b8_6254_11ea_af25_f018988e8c63row6_col2\" class=\"data row6 col2\" >0.0065</td>\n",
       "                        <td id=\"T_9e8e68b8_6254_11ea_af25_f018988e8c63row6_col3\" class=\"data row6 col3\" >-0.016</td>\n",
       "                        <td id=\"T_9e8e68b8_6254_11ea_af25_f018988e8c63row6_col4\" class=\"data row6 col4\" >-0.029</td>\n",
       "                        <td id=\"T_9e8e68b8_6254_11ea_af25_f018988e8c63row6_col5\" class=\"data row6 col5\" >0.0087</td>\n",
       "                        <td id=\"T_9e8e68b8_6254_11ea_af25_f018988e8c63row6_col6\" class=\"data row6 col6\" >1</td>\n",
       "                        <td id=\"T_9e8e68b8_6254_11ea_af25_f018988e8c63row6_col7\" class=\"data row6 col7\" >0.0069</td>\n",
       "                        <td id=\"T_9e8e68b8_6254_11ea_af25_f018988e8c63row6_col8\" class=\"data row6 col8\" >-0.034</td>\n",
       "                        <td id=\"T_9e8e68b8_6254_11ea_af25_f018988e8c63row6_col9\" class=\"data row6 col9\" >-0.028</td>\n",
       "                        <td id=\"T_9e8e68b8_6254_11ea_af25_f018988e8c63row6_col10\" class=\"data row6 col10\" >0.038</td>\n",
       "            </tr>\n",
       "            <tr>\n",
       "                        <th id=\"T_9e8e68b8_6254_11ea_af25_f018988e8c63level0_row7\" class=\"row_heading level0 row7\" >m_dep</th>\n",
       "                        <td id=\"T_9e8e68b8_6254_11ea_af25_f018988e8c63row7_col0\" class=\"data row7 col0\" >0.034</td>\n",
       "                        <td id=\"T_9e8e68b8_6254_11ea_af25_f018988e8c63row7_col1\" class=\"data row7 col1\" >0.004</td>\n",
       "                        <td id=\"T_9e8e68b8_6254_11ea_af25_f018988e8c63row7_col2\" class=\"data row7 col2\" >-0.014</td>\n",
       "                        <td id=\"T_9e8e68b8_6254_11ea_af25_f018988e8c63row7_col3\" class=\"data row7 col3\" >-0.022</td>\n",
       "                        <td id=\"T_9e8e68b8_6254_11ea_af25_f018988e8c63row7_col4\" class=\"data row7 col4\" >-0.0018</td>\n",
       "                        <td id=\"T_9e8e68b8_6254_11ea_af25_f018988e8c63row7_col5\" class=\"data row7 col5\" >-0.0018</td>\n",
       "                        <td id=\"T_9e8e68b8_6254_11ea_af25_f018988e8c63row7_col6\" class=\"data row7 col6\" >0.0069</td>\n",
       "                        <td id=\"T_9e8e68b8_6254_11ea_af25_f018988e8c63row7_col7\" class=\"data row7 col7\" >1</td>\n",
       "                        <td id=\"T_9e8e68b8_6254_11ea_af25_f018988e8c63row7_col8\" class=\"data row7 col8\" >0.022</td>\n",
       "                        <td id=\"T_9e8e68b8_6254_11ea_af25_f018988e8c63row7_col9\" class=\"data row7 col9\" >-0.0035</td>\n",
       "                        <td id=\"T_9e8e68b8_6254_11ea_af25_f018988e8c63row7_col10\" class=\"data row7 col10\" >-0.025</td>\n",
       "            </tr>\n",
       "            <tr>\n",
       "                        <th id=\"T_9e8e68b8_6254_11ea_af25_f018988e8c63level0_row8\" class=\"row_heading level0 row8\" >mobile_wt</th>\n",
       "                        <td id=\"T_9e8e68b8_6254_11ea_af25_f018988e8c63row8_col0\" class=\"data row8 col0\" >0.0018</td>\n",
       "                        <td id=\"T_9e8e68b8_6254_11ea_af25_f018988e8c63row8_col1\" class=\"data row8 col1\" >-0.0086</td>\n",
       "                        <td id=\"T_9e8e68b8_6254_11ea_af25_f018988e8c63row8_col2\" class=\"data row8 col2\" >0.012</td>\n",
       "                        <td id=\"T_9e8e68b8_6254_11ea_af25_f018988e8c63row8_col3\" class=\"data row8 col3\" >-0.009</td>\n",
       "                        <td id=\"T_9e8e68b8_6254_11ea_af25_f018988e8c63row8_col4\" class=\"data row8 col4\" >0.024</td>\n",
       "                        <td id=\"T_9e8e68b8_6254_11ea_af25_f018988e8c63row8_col5\" class=\"data row8 col5\" >-0.017</td>\n",
       "                        <td id=\"T_9e8e68b8_6254_11ea_af25_f018988e8c63row8_col6\" class=\"data row8 col6\" >-0.034</td>\n",
       "                        <td id=\"T_9e8e68b8_6254_11ea_af25_f018988e8c63row8_col7\" class=\"data row8 col7\" >0.022</td>\n",
       "                        <td id=\"T_9e8e68b8_6254_11ea_af25_f018988e8c63row8_col8\" class=\"data row8 col8\" >1</td>\n",
       "                        <td id=\"T_9e8e68b8_6254_11ea_af25_f018988e8c63row8_col9\" class=\"data row8 col9\" >-0.019</td>\n",
       "                        <td id=\"T_9e8e68b8_6254_11ea_af25_f018988e8c63row8_col10\" class=\"data row8 col10\" >-0.034</td>\n",
       "            </tr>\n",
       "            <tr>\n",
       "                        <th id=\"T_9e8e68b8_6254_11ea_af25_f018988e8c63level0_row9\" class=\"row_heading level0 row9\" >n_cores</th>\n",
       "                        <td id=\"T_9e8e68b8_6254_11ea_af25_f018988e8c63row9_col0\" class=\"data row9 col0\" >-0.03</td>\n",
       "                        <td id=\"T_9e8e68b8_6254_11ea_af25_f018988e8c63row9_col1\" class=\"data row9 col1\" >0.036</td>\n",
       "                        <td id=\"T_9e8e68b8_6254_11ea_af25_f018988e8c63row9_col2\" class=\"data row9 col2\" >-0.0057</td>\n",
       "                        <td id=\"T_9e8e68b8_6254_11ea_af25_f018988e8c63row9_col3\" class=\"data row9 col3\" >-0.025</td>\n",
       "                        <td id=\"T_9e8e68b8_6254_11ea_af25_f018988e8c63row9_col4\" class=\"data row9 col4\" >-0.013</td>\n",
       "                        <td id=\"T_9e8e68b8_6254_11ea_af25_f018988e8c63row9_col5\" class=\"data row9 col5\" >-0.03</td>\n",
       "                        <td id=\"T_9e8e68b8_6254_11ea_af25_f018988e8c63row9_col6\" class=\"data row9 col6\" >-0.028</td>\n",
       "                        <td id=\"T_9e8e68b8_6254_11ea_af25_f018988e8c63row9_col7\" class=\"data row9 col7\" >-0.0035</td>\n",
       "                        <td id=\"T_9e8e68b8_6254_11ea_af25_f018988e8c63row9_col8\" class=\"data row9 col8\" >-0.019</td>\n",
       "                        <td id=\"T_9e8e68b8_6254_11ea_af25_f018988e8c63row9_col9\" class=\"data row9 col9\" >1</td>\n",
       "                        <td id=\"T_9e8e68b8_6254_11ea_af25_f018988e8c63row9_col10\" class=\"data row9 col10\" >-0.0003</td>\n",
       "            </tr>\n",
       "            <tr>\n",
       "                        <th id=\"T_9e8e68b8_6254_11ea_af25_f018988e8c63level0_row10\" class=\"row_heading level0 row10\" >sc_h</th>\n",
       "                        <td id=\"T_9e8e68b8_6254_11ea_af25_f018988e8c63row10_col0\" class=\"data row10 col0\" >-0.03</td>\n",
       "                        <td id=\"T_9e8e68b8_6254_11ea_af25_f018988e8c63row10_col1\" class=\"data row10 col1\" >-0.003</td>\n",
       "                        <td id=\"T_9e8e68b8_6254_11ea_af25_f018988e8c63row10_col2\" class=\"data row10 col2\" >-0.029</td>\n",
       "                        <td id=\"T_9e8e68b8_6254_11ea_af25_f018988e8c63row10_col3\" class=\"data row10 col3\" >-0.012</td>\n",
       "                        <td id=\"T_9e8e68b8_6254_11ea_af25_f018988e8c63row10_col4\" class=\"data row10 col4\" >-0.011</td>\n",
       "                        <td id=\"T_9e8e68b8_6254_11ea_af25_f018988e8c63row10_col5\" class=\"data row10 col5\" >0.027</td>\n",
       "                        <td id=\"T_9e8e68b8_6254_11ea_af25_f018988e8c63row10_col6\" class=\"data row10 col6\" >0.038</td>\n",
       "                        <td id=\"T_9e8e68b8_6254_11ea_af25_f018988e8c63row10_col7\" class=\"data row10 col7\" >-0.025</td>\n",
       "                        <td id=\"T_9e8e68b8_6254_11ea_af25_f018988e8c63row10_col8\" class=\"data row10 col8\" >-0.034</td>\n",
       "                        <td id=\"T_9e8e68b8_6254_11ea_af25_f018988e8c63row10_col9\" class=\"data row10 col9\" >-0.0003</td>\n",
       "                        <td id=\"T_9e8e68b8_6254_11ea_af25_f018988e8c63row10_col10\" class=\"data row10 col10\" >1</td>\n",
       "            </tr>\n",
       "    </tbody></table>"
      ],
      "text/plain": [
       "<pandas.io.formats.style.Styler at 0x1a1c941c10>"
      ]
     },
     "execution_count": 56,
     "metadata": {},
     "output_type": "execute_result"
    }
   ],
   "source": [
    "corr = df.iloc[:,[0, 1, 2, 3, 4, 5, 6, 7, 8, 9, 14]].corr().round(4)\n",
    "corr.style.background_gradient(cmap='RdYlGn', axis= None).set_precision(2)"
   ]
  },
  {
   "cell_type": "code",
   "execution_count": 8,
   "metadata": {},
   "outputs": [],
   "source": [
    "from sklearn.model_selection import train_test_split # Data split in test and train\n",
    "x_train, x_test, y_train, y_test = train_test_split(df.iloc[:,0:20],df['Price'] , test_size=0.3, random_state=100)"
   ]
  },
  {
   "cell_type": "code",
   "execution_count": 55,
   "metadata": {},
   "outputs": [
    {
     "data": {
      "text/html": [
       "<div>\n",
       "<style scoped>\n",
       "    .dataframe tbody tr th:only-of-type {\n",
       "        vertical-align: middle;\n",
       "    }\n",
       "\n",
       "    .dataframe tbody tr th {\n",
       "        vertical-align: top;\n",
       "    }\n",
       "\n",
       "    .dataframe thead th {\n",
       "        text-align: right;\n",
       "    }\n",
       "</style>\n",
       "<table border=\"1\" class=\"dataframe\">\n",
       "  <thead>\n",
       "    <tr style=\"text-align: right;\">\n",
       "      <th></th>\n",
       "      <th>battery_power</th>\n",
       "      <th>blue</th>\n",
       "      <th>clock_speed</th>\n",
       "      <th>dual_sim</th>\n",
       "      <th>fc</th>\n",
       "      <th>four_g</th>\n",
       "      <th>int_memory</th>\n",
       "      <th>m_dep</th>\n",
       "      <th>mobile_wt</th>\n",
       "      <th>n_cores</th>\n",
       "      <th>...</th>\n",
       "      <th>px_height</th>\n",
       "      <th>px_width</th>\n",
       "      <th>ram</th>\n",
       "      <th>sc_h</th>\n",
       "      <th>sc_w</th>\n",
       "      <th>talk_time</th>\n",
       "      <th>three_g</th>\n",
       "      <th>touch_screen</th>\n",
       "      <th>wifi</th>\n",
       "      <th>Price</th>\n",
       "    </tr>\n",
       "  </thead>\n",
       "  <tbody>\n",
       "    <tr>\n",
       "      <td>count</td>\n",
       "      <td>2000.000000</td>\n",
       "      <td>2000.0000</td>\n",
       "      <td>2000.000000</td>\n",
       "      <td>2000.000000</td>\n",
       "      <td>2000.000000</td>\n",
       "      <td>2000.000000</td>\n",
       "      <td>2000.000000</td>\n",
       "      <td>2000.000000</td>\n",
       "      <td>2000.000000</td>\n",
       "      <td>2000.000000</td>\n",
       "      <td>...</td>\n",
       "      <td>2000.000000</td>\n",
       "      <td>2000.000000</td>\n",
       "      <td>2000.000000</td>\n",
       "      <td>2000.000000</td>\n",
       "      <td>2000.000000</td>\n",
       "      <td>2000.000000</td>\n",
       "      <td>2000.000000</td>\n",
       "      <td>2000.000000</td>\n",
       "      <td>2000.000000</td>\n",
       "      <td>2000.000000</td>\n",
       "    </tr>\n",
       "    <tr>\n",
       "      <td>mean</td>\n",
       "      <td>1238.518500</td>\n",
       "      <td>0.4950</td>\n",
       "      <td>1.522250</td>\n",
       "      <td>0.509500</td>\n",
       "      <td>4.309500</td>\n",
       "      <td>0.521500</td>\n",
       "      <td>32.046500</td>\n",
       "      <td>0.501750</td>\n",
       "      <td>140.249000</td>\n",
       "      <td>4.520500</td>\n",
       "      <td>...</td>\n",
       "      <td>645.108000</td>\n",
       "      <td>1251.515500</td>\n",
       "      <td>2124.213000</td>\n",
       "      <td>12.306500</td>\n",
       "      <td>5.767000</td>\n",
       "      <td>11.011000</td>\n",
       "      <td>0.761500</td>\n",
       "      <td>0.503000</td>\n",
       "      <td>0.507000</td>\n",
       "      <td>0.500000</td>\n",
       "    </tr>\n",
       "    <tr>\n",
       "      <td>std</td>\n",
       "      <td>439.418206</td>\n",
       "      <td>0.5001</td>\n",
       "      <td>0.816004</td>\n",
       "      <td>0.500035</td>\n",
       "      <td>4.341444</td>\n",
       "      <td>0.499662</td>\n",
       "      <td>18.145715</td>\n",
       "      <td>0.288416</td>\n",
       "      <td>35.399655</td>\n",
       "      <td>2.287837</td>\n",
       "      <td>...</td>\n",
       "      <td>443.780811</td>\n",
       "      <td>432.199447</td>\n",
       "      <td>1084.732044</td>\n",
       "      <td>4.213245</td>\n",
       "      <td>4.356398</td>\n",
       "      <td>5.463955</td>\n",
       "      <td>0.426273</td>\n",
       "      <td>0.500116</td>\n",
       "      <td>0.500076</td>\n",
       "      <td>0.500125</td>\n",
       "    </tr>\n",
       "    <tr>\n",
       "      <td>min</td>\n",
       "      <td>501.000000</td>\n",
       "      <td>0.0000</td>\n",
       "      <td>0.500000</td>\n",
       "      <td>0.000000</td>\n",
       "      <td>0.000000</td>\n",
       "      <td>0.000000</td>\n",
       "      <td>2.000000</td>\n",
       "      <td>0.100000</td>\n",
       "      <td>80.000000</td>\n",
       "      <td>1.000000</td>\n",
       "      <td>...</td>\n",
       "      <td>0.000000</td>\n",
       "      <td>500.000000</td>\n",
       "      <td>256.000000</td>\n",
       "      <td>5.000000</td>\n",
       "      <td>0.000000</td>\n",
       "      <td>2.000000</td>\n",
       "      <td>0.000000</td>\n",
       "      <td>0.000000</td>\n",
       "      <td>0.000000</td>\n",
       "      <td>0.000000</td>\n",
       "    </tr>\n",
       "    <tr>\n",
       "      <td>25%</td>\n",
       "      <td>851.750000</td>\n",
       "      <td>0.0000</td>\n",
       "      <td>0.700000</td>\n",
       "      <td>0.000000</td>\n",
       "      <td>1.000000</td>\n",
       "      <td>0.000000</td>\n",
       "      <td>16.000000</td>\n",
       "      <td>0.200000</td>\n",
       "      <td>109.000000</td>\n",
       "      <td>3.000000</td>\n",
       "      <td>...</td>\n",
       "      <td>282.750000</td>\n",
       "      <td>874.750000</td>\n",
       "      <td>1207.500000</td>\n",
       "      <td>9.000000</td>\n",
       "      <td>2.000000</td>\n",
       "      <td>6.000000</td>\n",
       "      <td>1.000000</td>\n",
       "      <td>0.000000</td>\n",
       "      <td>0.000000</td>\n",
       "      <td>0.000000</td>\n",
       "    </tr>\n",
       "    <tr>\n",
       "      <td>50%</td>\n",
       "      <td>1226.000000</td>\n",
       "      <td>0.0000</td>\n",
       "      <td>1.500000</td>\n",
       "      <td>1.000000</td>\n",
       "      <td>3.000000</td>\n",
       "      <td>1.000000</td>\n",
       "      <td>32.000000</td>\n",
       "      <td>0.500000</td>\n",
       "      <td>141.000000</td>\n",
       "      <td>4.000000</td>\n",
       "      <td>...</td>\n",
       "      <td>564.000000</td>\n",
       "      <td>1247.000000</td>\n",
       "      <td>2146.500000</td>\n",
       "      <td>12.000000</td>\n",
       "      <td>5.000000</td>\n",
       "      <td>11.000000</td>\n",
       "      <td>1.000000</td>\n",
       "      <td>1.000000</td>\n",
       "      <td>1.000000</td>\n",
       "      <td>0.500000</td>\n",
       "    </tr>\n",
       "    <tr>\n",
       "      <td>75%</td>\n",
       "      <td>1615.250000</td>\n",
       "      <td>1.0000</td>\n",
       "      <td>2.200000</td>\n",
       "      <td>1.000000</td>\n",
       "      <td>7.000000</td>\n",
       "      <td>1.000000</td>\n",
       "      <td>48.000000</td>\n",
       "      <td>0.800000</td>\n",
       "      <td>170.000000</td>\n",
       "      <td>7.000000</td>\n",
       "      <td>...</td>\n",
       "      <td>947.250000</td>\n",
       "      <td>1633.000000</td>\n",
       "      <td>3064.500000</td>\n",
       "      <td>16.000000</td>\n",
       "      <td>9.000000</td>\n",
       "      <td>16.000000</td>\n",
       "      <td>1.000000</td>\n",
       "      <td>1.000000</td>\n",
       "      <td>1.000000</td>\n",
       "      <td>1.000000</td>\n",
       "    </tr>\n",
       "    <tr>\n",
       "      <td>max</td>\n",
       "      <td>1998.000000</td>\n",
       "      <td>1.0000</td>\n",
       "      <td>3.000000</td>\n",
       "      <td>1.000000</td>\n",
       "      <td>19.000000</td>\n",
       "      <td>1.000000</td>\n",
       "      <td>64.000000</td>\n",
       "      <td>1.000000</td>\n",
       "      <td>200.000000</td>\n",
       "      <td>8.000000</td>\n",
       "      <td>...</td>\n",
       "      <td>1960.000000</td>\n",
       "      <td>1998.000000</td>\n",
       "      <td>3998.000000</td>\n",
       "      <td>19.000000</td>\n",
       "      <td>18.000000</td>\n",
       "      <td>20.000000</td>\n",
       "      <td>1.000000</td>\n",
       "      <td>1.000000</td>\n",
       "      <td>1.000000</td>\n",
       "      <td>1.000000</td>\n",
       "    </tr>\n",
       "  </tbody>\n",
       "</table>\n",
       "<p>8 rows × 21 columns</p>\n",
       "</div>"
      ],
      "text/plain": [
       "       battery_power       blue  clock_speed     dual_sim           fc  \\\n",
       "count    2000.000000  2000.0000  2000.000000  2000.000000  2000.000000   \n",
       "mean     1238.518500     0.4950     1.522250     0.509500     4.309500   \n",
       "std       439.418206     0.5001     0.816004     0.500035     4.341444   \n",
       "min       501.000000     0.0000     0.500000     0.000000     0.000000   \n",
       "25%       851.750000     0.0000     0.700000     0.000000     1.000000   \n",
       "50%      1226.000000     0.0000     1.500000     1.000000     3.000000   \n",
       "75%      1615.250000     1.0000     2.200000     1.000000     7.000000   \n",
       "max      1998.000000     1.0000     3.000000     1.000000    19.000000   \n",
       "\n",
       "            four_g   int_memory        m_dep    mobile_wt      n_cores  ...  \\\n",
       "count  2000.000000  2000.000000  2000.000000  2000.000000  2000.000000  ...   \n",
       "mean      0.521500    32.046500     0.501750   140.249000     4.520500  ...   \n",
       "std       0.499662    18.145715     0.288416    35.399655     2.287837  ...   \n",
       "min       0.000000     2.000000     0.100000    80.000000     1.000000  ...   \n",
       "25%       0.000000    16.000000     0.200000   109.000000     3.000000  ...   \n",
       "50%       1.000000    32.000000     0.500000   141.000000     4.000000  ...   \n",
       "75%       1.000000    48.000000     0.800000   170.000000     7.000000  ...   \n",
       "max       1.000000    64.000000     1.000000   200.000000     8.000000  ...   \n",
       "\n",
       "         px_height     px_width          ram         sc_h         sc_w  \\\n",
       "count  2000.000000  2000.000000  2000.000000  2000.000000  2000.000000   \n",
       "mean    645.108000  1251.515500  2124.213000    12.306500     5.767000   \n",
       "std     443.780811   432.199447  1084.732044     4.213245     4.356398   \n",
       "min       0.000000   500.000000   256.000000     5.000000     0.000000   \n",
       "25%     282.750000   874.750000  1207.500000     9.000000     2.000000   \n",
       "50%     564.000000  1247.000000  2146.500000    12.000000     5.000000   \n",
       "75%     947.250000  1633.000000  3064.500000    16.000000     9.000000   \n",
       "max    1960.000000  1998.000000  3998.000000    19.000000    18.000000   \n",
       "\n",
       "         talk_time      three_g  touch_screen         wifi        Price  \n",
       "count  2000.000000  2000.000000   2000.000000  2000.000000  2000.000000  \n",
       "mean     11.011000     0.761500      0.503000     0.507000     0.500000  \n",
       "std       5.463955     0.426273      0.500116     0.500076     0.500125  \n",
       "min       2.000000     0.000000      0.000000     0.000000     0.000000  \n",
       "25%       6.000000     1.000000      0.000000     0.000000     0.000000  \n",
       "50%      11.000000     1.000000      1.000000     1.000000     0.500000  \n",
       "75%      16.000000     1.000000      1.000000     1.000000     1.000000  \n",
       "max      20.000000     1.000000      1.000000     1.000000     1.000000  \n",
       "\n",
       "[8 rows x 21 columns]"
      ]
     },
     "execution_count": 55,
     "metadata": {},
     "output_type": "execute_result"
    }
   ],
   "source": [
    "df.describe()"
   ]
  },
  {
   "cell_type": "code",
   "execution_count": 21,
   "metadata": {},
   "outputs": [],
   "source": [
    "from sklearn.preprocessing import StandardScaler #scaling data\n",
    "scaler = StandardScaler()\n",
    "x_train=scaler.fit_transform(x_train)\n",
    "x_test=scaler.fit_transform(x_test)"
   ]
  },
  {
   "cell_type": "markdown",
   "metadata": {},
   "source": [
    "# Accuracy plots"
   ]
  },
  {
   "cell_type": "code",
   "execution_count": 11,
   "metadata": {},
   "outputs": [],
   "source": [
    "def plot_accuracy(parameters,train_acc,test_acc,title,xlab,ylab):\n",
    "    plt.plot(parameters,train_acc,marker='o',markersize=5,color='black',label='train')\n",
    "    plt.plot(parameters,test_acc,marker='o',markersize=5,color='purple',label='test')\n",
    "    plt.title(title)\n",
    "    plt.xlabel(xlab)\n",
    "    plt.grid()\n",
    "    plt.ylabel(ylab)\n",
    "    plt.legend(loc='upper right')\n",
    "    plt.show()"
   ]
  },
  {
   "cell_type": "markdown",
   "metadata": {},
   "source": [
    "# Run time plots"
   ]
  },
  {
   "cell_type": "code",
   "execution_count": 12,
   "metadata": {},
   "outputs": [],
   "source": [
    "def plot_runtime(parameters,run_time,title,xlab,ylab):\n",
    "    plt.plot(parameters,run_time,marker='o',markersize=5,color='green')\n",
    "    plt.title(title)\n",
    "    plt.xlabel(xlab)\n",
    "    plt.grid()\n",
    "    plt.ylabel(ylab)\n",
    "    plt.show()"
   ]
  },
  {
   "cell_type": "markdown",
   "metadata": {},
   "source": [
    "# SVM"
   ]
  },
  {
   "cell_type": "markdown",
   "metadata": {},
   "source": [
    "# Accuracy vs kernals"
   ]
  },
  {
   "cell_type": "code",
   "execution_count": 22,
   "metadata": {
    "scrolled": true
   },
   "outputs": [],
   "source": [
    "kernels = ['linear', 'poly', 'rbf','sigmoid']\n",
    "ker_acc_train = []\n",
    "ker_acc_test = []\n",
    "ker_run_time = []\n",
    "for i in range(0, len(kernels)):\n",
    "    start_time = time.time()\n",
    "    SVM=SVC(kernel= kernels[i],random_state=5)\n",
    "    SVM.fit(x_train,y_train)\n",
    "    end_time = time.time()\n",
    "    run_time = end_time - start_time\n",
    "    y_train_pred = SVM.predict(x_train)\n",
    "    y_test_pred = SVM.predict(x_test)\n",
    "    sc1=accuracy_score(y_train,y_train_pred)\n",
    "    sc2=accuracy_score(y_test,y_test_pred)\n",
    "    ker_acc_train.append(sc1)\n",
    "    ker_acc_test.append(sc2)\n",
    "    ker_run_time.append(run_time)"
   ]
  },
  {
   "cell_type": "code",
   "execution_count": 23,
   "metadata": {
    "scrolled": true
   },
   "outputs": [
    {
     "data": {
      "image/png": "[encoded data removed]",
      "text/plain": [
       "<Figure size 432x288 with 1 Axes>"
      ]
     },
     "metadata": {
      "needs_background": "light"
     },
     "output_type": "display_data"
    }
   ],
   "source": [
    "plot_accuracy(kernels,ker_acc_train,ker_acc_test,\"Accuracy vs kernals\",\"kernals\",\"Accuracy\")"
   ]
  },
  {
   "cell_type": "code",
   "execution_count": 24,
   "metadata": {
    "scrolled": true
   },
   "outputs": [
    {
     "data": {
      "image/png": "[encoded data removed]",
      "text/plain": [
       "<Figure size 432x288 with 1 Axes>"
      ]
     },
     "metadata": {
      "needs_background": "light"
     },
     "output_type": "display_data"
    }
   ],
   "source": [
    "plot_runtime(kernels,ker_run_time,'Run Time vs Kernels','Kernels','Run Time')"
   ]
  },
  {
   "cell_type": "code",
   "execution_count": 25,
   "metadata": {
    "scrolled": true
   },
   "outputs": [
    {
     "data": {
      "text/plain": [
       "SVC(C=1.0, cache_size=200, class_weight=None, coef0=0.0,\n",
       "    decision_function_shape='ovr', degree=3, gamma='auto_deprecated',\n",
       "    kernel='sigmoid', max_iter=-1, probability=False, random_state=5,\n",
       "    shrinking=True, tol=0.001, verbose=False)"
      ]
     },
     "execution_count": 25,
     "metadata": {},
     "output_type": "execute_result"
    }
   ],
   "source": [
    "SVM"
   ]
  },
  {
   "cell_type": "markdown",
   "metadata": {},
   "source": [
    "# Accuracy vs Polynomial"
   ]
  },
  {
   "cell_type": "code",
   "execution_count": 26,
   "metadata": {},
   "outputs": [
    {
     "name": "stdout",
     "output_type": "stream",
     "text": [
      "--degree: 1 --\n",
      "--degree: 2 --\n",
      "--degree: 3 --\n",
      "--degree: 4 --\n",
      "--degree: 5 --\n",
      "--degree: 6 --\n",
      "--degree: 7 --\n",
      "--degree: 8 --\n",
      "--degree: 9 --\n",
      "--degree: 10 --\n"
     ]
    }
   ],
   "source": [
    "deg_poly=np.arange(1,11,1)\n",
    "poly_run_time=[]\n",
    "poly_acc_train=[]\n",
    "poly_acc_test=[]\n",
    "for i in deg_poly:\n",
    "    print(\"--degree:\",i,\"--\")\n",
    "    start_time = time.time()\n",
    "    SVM2=SVC(degree=i,kernel='poly',random_state=5)\n",
    "    SVM2.fit(x_train,y_train)\n",
    "    end_time = time.time()\n",
    "    run_time = end_time - start_time\n",
    "    y_train_pred = SVM2.predict(x_train)\n",
    "    y_test_pred = SVM2.predict(x_test)\n",
    "    py1=accuracy_score(y_train,y_train_pred)\n",
    "    py2=accuracy_score(y_test,y_test_pred)\n",
    "    poly_acc_train.append(py1)\n",
    "    poly_acc_test.append(py2)\n",
    "    poly_run_time.append(run_time)\n",
    "    "
   ]
  },
  {
   "cell_type": "code",
   "execution_count": 27,
   "metadata": {},
   "outputs": [
    {
     "data": {
      "image/png": "[encoded data removed]",
      "text/plain": [
       "<Figure size 432x288 with 1 Axes>"
      ]
     },
     "metadata": {
      "needs_background": "light"
     },
     "output_type": "display_data"
    }
   ],
   "source": [
    "plot_accuracy(deg_poly,poly_acc_train,poly_acc_test,\"Accuracy vs polynomials\",\"deg_poly\",\"Accuracy\")"
   ]
  },
  {
   "cell_type": "code",
   "execution_count": 28,
   "metadata": {},
   "outputs": [
    {
     "data": {
      "image/png": "[encoded data removed]",
      "text/plain": [
       "<Figure size 432x288 with 1 Axes>"
      ]
     },
     "metadata": {
      "needs_background": "light"
     },
     "output_type": "display_data"
    }
   ],
   "source": [
    "plot_runtime(deg_poly,poly_run_time,'Run Time vs deg_poly','deg_poly','Run Time')# gamme=scale"
   ]
  },
  {
   "cell_type": "markdown",
   "metadata": {},
   "source": [
    "# K fold Cross Validation"
   ]
  },
  {
   "cell_type": "code",
   "execution_count": 29,
   "metadata": {},
   "outputs": [
    {
     "name": "stdout",
     "output_type": "stream",
     "text": [
      "---- Running Cross validation for kernel :  linear ----\n",
      "---- Running Cross validation for folds :  2 ----\n",
      "---- Running Cross validation for folds :  4 ----\n",
      "---- Running Cross validation for folds :  6 ----\n",
      "---- Running Cross validation for folds :  8 ----\n",
      "---- Running Cross validation for folds :  10 ----\n",
      "---- Running Cross validation for kernel :  poly ----\n",
      "---- Running Cross validation for folds :  2 ----\n",
      "---- Running Cross validation for folds :  4 ----\n",
      "---- Running Cross validation for folds :  6 ----\n",
      "---- Running Cross validation for folds :  8 ----\n",
      "---- Running Cross validation for folds :  10 ----\n",
      "---- Running Cross validation for kernel :  rbf ----\n",
      "---- Running Cross validation for folds :  2 ----\n",
      "---- Running Cross validation for folds :  4 ----\n",
      "---- Running Cross validation for folds :  6 ----\n",
      "---- Running Cross validation for folds :  8 ----\n",
      "---- Running Cross validation for folds :  10 ----\n",
      "---- Running Cross validation for kernel :  sigmoid ----\n",
      "---- Running Cross validation for folds :  2 ----\n",
      "---- Running Cross validation for folds :  4 ----\n",
      "---- Running Cross validation for folds :  6 ----\n",
      "---- Running Cross validation for folds :  8 ----\n",
      "---- Running Cross validation for folds :  10 ----\n"
     ]
    }
   ],
   "source": [
    "from sklearn.model_selection import cross_val_score\n",
    "kernels = ['linear', 'poly', 'rbf', 'sigmoid']\n",
    "folds = list(range(2,12,2))\n",
    "accuracy_kernel_folds = []\n",
    "accuracy_folds = []\n",
    "for i in range(len(kernels)):\n",
    "    print(\"---- Running Cross validation for kernel : \", kernels[i], \"----\")\n",
    "    for j in range(len(folds)):\n",
    "        print(\"---- Running Cross validation for folds : \", folds[j], \"----\")\n",
    "        cross_valid = cross_val_score(estimator = SVC(kernel = kernels[i],gamma = 'auto',random_state = 5), \n",
    "                                   X = x_train, y = y_train, cv = folds[j])\n",
    "        \n",
    "        accuracy_folds.append(cross_valid.mean())\n",
    "    \n",
    "    accuracy_kernel_folds.append(accuracy_folds)\n",
    "    accuracy_folds = []"
   ]
  },
  {
   "cell_type": "code",
   "execution_count": 30,
   "metadata": {},
   "outputs": [
    {
     "data": {
      "image/png": "[encoded data removed]",
      "text/plain": [
       "<Figure size 432x288 with 1 Axes>"
      ]
     },
     "metadata": {
      "needs_background": "light"
     },
     "output_type": "display_data"
    }
   ],
   "source": [
    "# Plotting the mean accuracies found from cross validtion and test set accuracy\n",
    "colors = ['purple', 'violet', 'red', 'black']\n",
    "for i in range(len(kernels)):\n",
    "    plt.plot(folds, accuracy_kernel_folds[i] , marker ='o', markersize = 8 , color =colors[i],label=kernels[i])\n",
    "\n",
    "plt.title(\" Kernels: Accuracy Vs Folds \")\n",
    "plt.xlabel(\"Folds\")\n",
    "plt.grid()\n",
    "plt.ylabel(\"Accuracy\")\n",
    "plt.legend(prop={'size': 8})\n",
    "plt.show()"
   ]
  },
  {
   "cell_type": "markdown",
   "metadata": {},
   "source": [
    "# Accuracy vs Gamma"
   ]
  },
  {
   "cell_type": "code",
   "execution_count": 31,
   "metadata": {},
   "outputs": [
    {
     "name": "stdout",
     "output_type": "stream",
     "text": [
      "---- SVM with rbf kernal for gamma value : auto ----\n",
      "---- SVM with rbf kernal for gamma value : 1 ----\n",
      "---- SVM with rbf kernal for gamma value : 10 ----\n",
      "---- SVM with rbf kernal for gamma value : 100 ----\n"
     ]
    }
   ],
   "source": [
    "gamma_values = ['auto', 1, 10, 100]\n",
    "gamma_acc_train = []\n",
    "gamma_acc_test = []\n",
    "gamma_run_time = []\n",
    "for i in range(len(gamma_values)):\n",
    "    print(\"---- SVM with rbf kernal for gamma value :\", gamma_values[i], \"----\")\n",
    "    start = time.time()\n",
    "    gama_svm = SVC(kernel= 'rbf' ,gamma= gamma_values[i], random_state=5)\n",
    "    gama_svm.fit(x_train , y_train)\n",
    "    gamma_run_time.append(time.time() - start)\n",
    "    y2_pred_train = gama_svm.predict(x_train)\n",
    "    y2_pred_test = gama_svm.predict(x_test)\n",
    "    gamma_acc_train.append(accuracy_score(y_train,y2_pred_train))\n",
    "    gamma_acc_test.append(accuracy_score(y_test,y2_pred_test))"
   ]
  },
  {
   "cell_type": "code",
   "execution_count": 32,
   "metadata": {},
   "outputs": [
    {
     "data": {
      "image/png": "[encoded data removed]",
      "text/plain": [
       "<Figure size 432x288 with 1 Axes>"
      ]
     },
     "metadata": {
      "needs_background": "light"
     },
     "output_type": "display_data"
    }
   ],
   "source": [
    "plot_accuracy(gamma_values,gamma_acc_train, gamma_acc_test,\n",
    "             \"Accuracy vs Gamma Values\", 'Gamma values', 'Accuracy')"
   ]
  },
  {
   "cell_type": "markdown",
   "metadata": {},
   "source": [
    "# Decision Tree"
   ]
  },
  {
   "cell_type": "code",
   "execution_count": 33,
   "metadata": {},
   "outputs": [],
   "source": [
    "det_cri=['gini','entropy']\n",
    "det_acc_train=[]\n",
    "det_acc_test=[]\n",
    "det_acc_time=[]\n",
    "for i in range(0,len(det_cri)):\n",
    "    start_time=time.time()\n",
    "    det = DecisionTreeClassifier(criterion=det_cri[i],random_state=5)\n",
    "    det.fit(x_train,y_train)\n",
    "    end_time=time.time()\n",
    "    run_time=end_time-start_time\n",
    "    Y_train_predict=det.predict(x_train)\n",
    "    Y_test_predict=det.predict(x_test)\n",
    "    Y_acc_train=accuracy_score(y_train,Y_train_predict)\n",
    "    Y_acc_test=accuracy_score(y_test,Y_test_predict)\n",
    "    det_acc_train.append(Y_acc_train)\n",
    "    det_acc_test.append(Y_acc_test)\n",
    "    det_acc_time.append(run_time)"
   ]
  },
  {
   "cell_type": "code",
   "execution_count": 34,
   "metadata": {},
   "outputs": [
    {
     "data": {
      "image/png": "[encoded data removed]",
      "text/plain": [
       "<Figure size 432x288 with 1 Axes>"
      ]
     },
     "metadata": {
      "needs_background": "light"
     },
     "output_type": "display_data"
    }
   ],
   "source": [
    "plot_accuracy(det_cri,det_acc_train,det_acc_test,\"Accuracy vs criterion\",\"criterion\",\"Accuracy\")"
   ]
  },
  {
   "cell_type": "code",
   "execution_count": 35,
   "metadata": {},
   "outputs": [
    {
     "data": {
      "image/png": "[encoded data removed]",
      "text/plain": [
       "<Figure size 432x288 with 1 Axes>"
      ]
     },
     "metadata": {
      "needs_background": "light"
     },
     "output_type": "display_data"
    }
   ],
   "source": [
    "plot_runtime(det_cri,det_acc_time,'Run Time vs criterion','criterion','Run Time')"
   ]
  },
  {
   "cell_type": "code",
   "execution_count": 36,
   "metadata": {},
   "outputs": [],
   "source": [
    "#det_cri=['gini','entropy']\n",
    "acc_depth=(1,10,1)\n",
    "depth_acc_train=[]\n",
    "depth_acc_test=[]\n",
    "depth_acc_time=[]\n",
    "#det2_acc_train=[]\n",
    "#det2_acc_test=[]\n",
    "#for i in range(0,len(det_cri)):\n",
    "for j in range(0,len(acc_depth)):\n",
    "    start_time=time.time()\n",
    "    det_depth = DecisionTreeClassifier(max_depth=acc_depth[j],random_state=5)\n",
    "    det_depth.fit(x_train,y_train)\n",
    "    end_time=time.time()\n",
    "    run_time=end_time-start_time\n",
    "    Y_train_predict2=det_depth.predict(x_train)\n",
    "    Y_test_predict2=det_depth.predict(x_test)\n",
    "    Y_acc_train2=accuracy_score(y_train,Y_train_predict2)\n",
    "    Y_acc_test2=accuracy_score(y_test,Y_test_predict2)\n",
    "    depth_acc_train.append(Y_acc_train2)\n",
    "    depth_acc_test.append(Y_acc_test2)\n",
    "    depth_acc_time.append(run_time)"
   ]
  },
  {
   "cell_type": "code",
   "execution_count": 37,
   "metadata": {},
   "outputs": [
    {
     "data": {
      "image/png": "[encoded data removed]",
      "text/plain": [
       "<Figure size 432x288 with 1 Axes>"
      ]
     },
     "metadata": {
      "needs_background": "light"
     },
     "output_type": "display_data"
    }
   ],
   "source": [
    "plot_accuracy(acc_depth,depth_acc_train,depth_acc_test,\"Accuracy vs Depth\",\"Depth\",\"Accuracy\")"
   ]
  },
  {
   "cell_type": "code",
   "execution_count": 38,
   "metadata": {},
   "outputs": [
    {
     "data": {
      "image/png": "[encoded data removed]",
      "text/plain": [
       "<Figure size 432x288 with 1 Axes>"
      ]
     },
     "metadata": {
      "needs_background": "light"
     },
     "output_type": "display_data"
    }
   ],
   "source": [
    "plot_runtime(acc_depth,depth_acc_time,'Run Time vs Depth','Depth','Run Time')"
   ]
  },
  {
   "cell_type": "code",
   "execution_count": 19,
   "metadata": {},
   "outputs": [],
   "source": [
    "metric = ['gini', 'entropy']\n",
    "depth = np.arange(5,20,1)\n",
    "depth_acc_train = []\n",
    "depth_acc_test = []\n",
    "metric_acc_train = []\n",
    "metric_acc_test = []\n",
    "for i in range(len(metric)):\n",
    "    for j in range(len(depth)):   \n",
    "        dtree = DecisionTreeClassifier(criterion=metric[i] ,max_depth=depth[j],  random_state= 5 )\n",
    "        #print(depth[j])\n",
    "        dtree.fit(x_train , y_train)\n",
    "        y_pred_train = dtree.predict(x_train)\n",
    "        y_pred_test = dtree.predict(x_test)\n",
    "        depth_acc_train.append(round(accuracy_score(y_train,y_pred_train),4))\n",
    "        depth_acc_test.append(round(accuracy_score(y_test,y_pred_test),4))\n",
    "        #print(depth_acc_train)\n",
    "        #print(depth_acc_test)\n",
    "    \n",
    "    metric_acc_train.append(depth_acc_train)\n",
    "    metric_acc_test.append(depth_acc_test)\n",
    "    depth_acc_train = []\n",
    "    depth_acc_test = []"
   ]
  },
  {
   "cell_type": "code",
   "execution_count": 20,
   "metadata": {
    "scrolled": true
   },
   "outputs": [
    {
     "data": {
      "image/png": "[encoded data removed]",
      "text/plain": [
       "<Figure size 432x288 with 1 Axes>"
      ]
     },
     "metadata": {
      "needs_background": "light"
     },
     "output_type": "display_data"
    }
   ],
   "source": [
    "plt.plot(depth,metric_acc_train[0],marker='o',markersize=6,color='blue',label='gini_train')\n",
    "plt.plot(depth,metric_acc_train[1],marker='o',markersize=6,color='red',label='entropy_train')\n",
    "plt.plot(depth,metric_acc_test[0],marker='o',markersize=6,color='green',label='gini_test')\n",
    "plt.plot(depth,metric_acc_test[1],marker='o',markersize=6,color='black',label='entropy_test')\n",
    "plt.title('Accuracy vs Depth with different metrics')\n",
    "plt.xlabel('Tree depth')\n",
    "plt.grid()\n",
    "plt.ylabel('Accuracy')\n",
    "plt.legend()\n",
    "plt.show()"
   ]
  },
  {
   "cell_type": "markdown",
   "metadata": {},
   "source": [
    "# Boosting"
   ]
  },
  {
   "cell_type": "markdown",
   "metadata": {},
   "source": [
    "# Experimentation with depth"
   ]
  },
  {
   "cell_type": "code",
   "execution_count": 39,
   "metadata": {},
   "outputs": [],
   "source": [
    "# Experimentation with depth\n",
    "boost_depth = np.arange(5,25,2)\n",
    "boost_train = []\n",
    "boost_test = []\n",
    "for i in boost_depth:   \n",
    "    boost = XGBClassifier(max_depth=i,random_state= 5 )\n",
    "    boost.fit(x_train,y_train)\n",
    "    y_pred_train = boost.predict(x_train)\n",
    "    y_pred_test = boost.predict(x_test)\n",
    "    boost_train.append(accuracy_score(y_train,y_pred_train))\n",
    "    boost_test.append(accuracy_score(y_test,y_pred_test))"
   ]
  },
  {
   "cell_type": "code",
   "execution_count": 40,
   "metadata": {},
   "outputs": [
    {
     "data": {
      "text/plain": [
       "[1.0, 1.0, 1.0, 1.0, 1.0, 1.0, 1.0, 1.0, 1.0, 1.0]"
      ]
     },
     "execution_count": 40,
     "metadata": {},
     "output_type": "execute_result"
    }
   ],
   "source": [
    "boost_train"
   ]
  },
  {
   "cell_type": "code",
   "execution_count": 41,
   "metadata": {},
   "outputs": [
    {
     "data": {
      "image/png": "[encoded data removed]",
      "text/plain": [
       "<Figure size 432x288 with 1 Axes>"
      ]
     },
     "metadata": {
      "needs_background": "light"
     },
     "output_type": "display_data"
    }
   ],
   "source": [
    "plot_accuracy(boost_depth,boost_train,boost_test,\"Accuracy vs Depth\",\"Depth\",\"Accuracy\")"
   ]
  },
  {
   "cell_type": "markdown",
   "metadata": {},
   "source": [
    "# Experimentation with boosting levels "
   ]
  },
  {
   "cell_type": "code",
   "execution_count": 42,
   "metadata": {},
   "outputs": [],
   "source": [
    "boost_level = np.arange(1,100,20)\n",
    "acc_boost_train = []\n",
    "acc_boost_test = []\n",
    "for i in boost_level:   \n",
    "    boost_level2 = XGBClassifier(n_estimators = i,random_state= 5)\n",
    "    boost_level2.fit(x_train,y_train)\n",
    "    y_pred_boost_train = boost_level2.predict(x_train)\n",
    "    y_pred_boost_test = boost_level2.predict(x_test)\n",
    "    acc_boost_train.append(accuracy_score(y_train,y_pred_boost_train))\n",
    "    acc_boost_test.append(accuracy_score(y_test,y_pred_boost_test))"
   ]
  },
  {
   "cell_type": "code",
   "execution_count": 43,
   "metadata": {},
   "outputs": [
    {
     "data": {
      "text/plain": [
       "[0.93, 0.9433333333333334, 0.9516666666666667, 0.96, 0.96]"
      ]
     },
     "execution_count": 43,
     "metadata": {},
     "output_type": "execute_result"
    }
   ],
   "source": [
    "acc_boost_test"
   ]
  },
  {
   "cell_type": "code",
   "execution_count": 44,
   "metadata": {},
   "outputs": [
    {
     "data": {
      "image/png": "[encoded data removed]",
      "text/plain": [
       "<Figure size 432x288 with 1 Axes>"
      ]
     },
     "metadata": {
      "needs_background": "light"
     },
     "output_type": "display_data"
    }
   ],
   "source": [
    "plot_accuracy(boost_level,acc_boost_train,acc_boost_test,'Accuracy vs Boost Level','Boost Level','Accuracy')"
   ]
  },
  {
   "cell_type": "markdown",
   "metadata": {},
   "source": [
    "# Experimentation with learning rate parameter"
   ]
  },
  {
   "cell_type": "code",
   "execution_count": 45,
   "metadata": {},
   "outputs": [],
   "source": [
    "learning_rate =(0.001,0.01,0.1,0.5)\n",
    "acc__learningrate_train = []\n",
    "acc_learningrate_test = []\n",
    "for i in range(0,len(learning_rate)):\n",
    "    learning_rate2 = XGBClassifier(learning_rate=learning_rate[i],random_state=5)\n",
    "    learning_rate2.fit(x_train,y_train)\n",
    "    y_pred_learning_rate_train = learning_rate2.predict(x_train)\n",
    "    y_pred_learning_rate_test = learning_rate2.predict(x_test)\n",
    "    acc__learningrate_train.append(accuracy_score(y_train,y_pred_learning_rate_train))\n",
    "    acc_learningrate_test.append(accuracy_score(y_test,y_pred_learning_rate_test))"
   ]
  },
  {
   "cell_type": "code",
   "execution_count": 46,
   "metadata": {
    "scrolled": true
   },
   "outputs": [
    {
     "data": {
      "image/png": "[encoded data removed]",
      "text/plain": [
       "<Figure size 432x288 with 1 Axes>"
      ]
     },
     "metadata": {
      "needs_background": "light"
     },
     "output_type": "display_data"
    }
   ],
   "source": [
    "plot_accuracy(learning_rate,acc__learningrate_train,acc_learningrate_test,'Accuracy vs Learning Rate','Learning_Rate','Accuracy')"
   ]
  },
  {
   "cell_type": "code",
   "execution_count": 47,
   "metadata": {},
   "outputs": [
    {
     "name": "stdout",
     "output_type": "stream",
     "text": [
      "[[290  15]\n",
      " [  7 288]]\n"
     ]
    }
   ],
   "source": [
    "Boosted_tree = XGBClassifier(max_depth = 10,random_state = 5,n_estimators = 80,learning_rate = 0.5)\n",
    "Boosted_tree.fit(x_train,y_train)\n",
    "y_pred_Boosted_tree = Boosted_tree.predict(x_test)\n",
    "### confusion matrix\n",
    "CM_BT_C = confusion_matrix(y_test,y_pred_Boosted_tree)\n",
    "print(CM_BT_C) \n",
    "accuracy_BT2 = accuracy_score(y_test,y_pred_Boosted_tree)\n",
    "accuracies_bt_2 = cross_val_score(estimator = Boosted_tree, X = x_train,y = y_train,cv = 10)\n",
    "mean_acc_bt_2 = accuracies_bt_2.mean()"
   ]
  },
  {
   "cell_type": "code",
   "execution_count": 48,
   "metadata": {
    "scrolled": true
   },
   "outputs": [
    {
     "name": "stdout",
     "output_type": "stream",
     "text": [
      "---- Running Cross validation for kernel :  linear ----\n",
      "---- Running Cross validation for folds :  2 ----\n",
      "---- Running Cross validation for folds :  4 ----\n",
      "---- Running Cross validation for folds :  6 ----\n",
      "---- Running Cross validation for folds :  8 ----\n",
      "---- Running Cross validation for folds :  10 ----\n",
      "---- Running Cross validation for kernel :  poly ----\n",
      "---- Running Cross validation for folds :  2 ----\n",
      "---- Running Cross validation for folds :  4 ----\n",
      "---- Running Cross validation for folds :  6 ----\n",
      "---- Running Cross validation for folds :  8 ----\n",
      "---- Running Cross validation for folds :  10 ----\n",
      "---- Running Cross validation for kernel :  rbf ----\n",
      "---- Running Cross validation for folds :  2 ----\n",
      "---- Running Cross validation for folds :  4 ----\n",
      "---- Running Cross validation for folds :  6 ----\n",
      "---- Running Cross validation for folds :  8 ----\n",
      "---- Running Cross validation for folds :  10 ----\n",
      "---- Running Cross validation for kernel :  sigmoid ----\n",
      "---- Running Cross validation for folds :  2 ----\n",
      "---- Running Cross validation for folds :  4 ----\n",
      "---- Running Cross validation for folds :  6 ----\n",
      "---- Running Cross validation for folds :  8 ----\n",
      "---- Running Cross validation for folds :  10 ----\n"
     ]
    }
   ],
   "source": [
    "\n",
    "# Applying k-Fold Cross Validation on TRAIN dataset\n",
    "\n",
    "from sklearn.model_selection import cross_val_score\n",
    "\n",
    "kernels = ['linear', 'poly', 'rbf', 'sigmoid']\n",
    "folds = list(range(2,12,2))\n",
    "mean_accuracy_kernel_folds = []\n",
    "mean_accuracy_folds = []\n",
    "\n",
    "\n",
    "for i in range(len(kernels)):\n",
    "    print(\"---- Running Cross validation for kernel : \", kernels[i], \"----\")\n",
    "    for j in range(len(folds)):\n",
    "        print(\"---- Running Cross validation for folds : \", folds[j], \"----\")\n",
    "        score = cross_val_score(estimator = SVC(kernel = kernels[i], gamma = 'auto', random_state = 5), \n",
    "                                   X = x_train, y = y_train, cv = folds[j])\n",
    "        \n",
    "        mean_accuracy_folds.append(score.mean())\n",
    "    \n",
    "    mean_accuracy_kernel_folds.append(mean_accuracy_folds)\n",
    "    mean_accuracy_folds = []"
   ]
  },
  {
   "cell_type": "code",
   "execution_count": 49,
   "metadata": {},
   "outputs": [
    {
     "data": {
      "image/png": "[encoded data removed]",
      "text/plain": [
       "<Figure size 432x288 with 1 Axes>"
      ]
     },
     "metadata": {
      "needs_background": "light"
     },
     "output_type": "display_data"
    }
   ],
   "source": [
    "# Plotting the mean accuracies found from cross validtion and test set accuracy\n",
    "colors = ['blue', 'green', 'red', 'black']\n",
    "for i in range(len(kernels)):\n",
    "    plt.plot(folds , mean_accuracy_kernel_folds[i] , marker ='o', markersize = 8 , color =colors[i],label=kernels[i])\n",
    "\n",
    "plt.title(\" Kernels: Accuracy Vs Folds \")\n",
    "plt.xlabel(\"Folds\")\n",
    "plt.grid()\n",
    "plt.ylabel(\"Accuracy\")\n",
    "plt.legend(prop={'size': 8})\n",
    "plt.show()"
   ]
  },
  {
   "cell_type": "code",
   "execution_count": 50,
   "metadata": {},
   "outputs": [
    {
     "name": "stdout",
     "output_type": "stream",
     "text": [
      "---- Running Cross validation for kernel :  linear ----\n",
      "---- Running Cross validation for kernel :  poly ----\n",
      "---- Running Cross validation for kernel :  rbf ----\n",
      "---- Running Cross validation for kernel :  sigmoid ----\n"
     ]
    }
   ],
   "source": [
    "# Applying k-Fold Cross Validation\n",
    "# Number of folds = 10\n",
    "from sklearn.model_selection import cross_val_score\n",
    "\n",
    "kernels = ['linear', 'poly', 'rbf', 'sigmoid']\n",
    "mean_accuracy_kernels = []\n",
    "\n",
    "for i in range(len(kernels)): \n",
    "    print(\"---- Running Cross validation for kernel : \", kernels[i], \"----\")\n",
    "    score = cross_val_score(estimator = SVC(kernel = kernels[i], gamma = 'auto', random_state = 5), \n",
    "                               X = x_train, y = y_train, cv = 10)\n",
    "    mean_accuracy_kernels.append(score.mean())"
   ]
  },
  {
   "cell_type": "code",
   "execution_count": 51,
   "metadata": {},
   "outputs": [
    {
     "data": {
      "image/png": "[encoded data removed]",
      "text/plain": [
       "<Figure size 432x288 with 1 Axes>"
      ]
     },
     "metadata": {
      "needs_background": "light"
     },
     "output_type": "display_data"
    }
   ],
   "source": [
    "# Plotting the mean accuracies found from cross validtion and test set accuracy\n",
    "plt.plot(kernels , mean_accuracy_kernels , marker ='o', markersize = 8 , color ='violet',label='k-fold mean')\n",
    "#plt.plot(range_svm , test_acc,  marker ='o', markersize = 8 , color ='black',label='Test set accuracy')\n",
    "plt.title(\" Accuracies of m Vs eccuracy \")\n",
    "plt.xlabel(\"Classifiers\")\n",
    "plt.grid()\n",
    "plt.ylabel(\"Accuracy\")\n",
    "plt.legend()\n",
    "plt.show()"
   ]
  },
  {
   "cell_type": "code",
   "execution_count": 60,
   "metadata": {},
   "outputs": [],
   "source": [
    "import time\n",
    "import math\n",
    "import seaborn as sns\n",
    "import pandas as pd\n",
    "import numpy as np\n",
    "import scipy as sci\n",
    "#import plotly.offline as py\n",
    "#import plotly.graph_objs as go\n",
    "#py.init_notebook_mode(connected=True)\n",
    "\n",
    "from lightgbm import LGBMClassifier\n",
    "from xgboost import XGBClassifier\n",
    "#from catboost import CatBoostClassifier\n",
    "from hyperopt import hp, tpe, Trials, STATUS_OK\n",
    "from hyperopt import fmin\n",
    "\n",
    "from sklearn.metrics import roc_auc_score, accuracy_score\n",
    "from sklearn.model_selection import train_test_split\n",
    "\n",
    "from matplotlib import pyplot as plt\n",
    "%matplotlib inline"
   ]
  },
  {
   "cell_type": "code",
   "execution_count": 62,
   "metadata": {},
   "outputs": [
    {
     "data": {
      "text/html": [
       "<div>\n",
       "<style scoped>\n",
       "    .dataframe tbody tr th:only-of-type {\n",
       "        vertical-align: middle;\n",
       "    }\n",
       "\n",
       "    .dataframe tbody tr th {\n",
       "        vertical-align: top;\n",
       "    }\n",
       "\n",
       "    .dataframe thead th {\n",
       "        text-align: right;\n",
       "    }\n",
       "</style>\n",
       "<table border=\"1\" class=\"dataframe\">\n",
       "  <thead>\n",
       "    <tr style=\"text-align: right;\">\n",
       "      <th></th>\n",
       "      <th>battery_power</th>\n",
       "      <th>blue</th>\n",
       "      <th>clock_speed</th>\n",
       "      <th>dual_sim</th>\n",
       "      <th>fc</th>\n",
       "      <th>four_g</th>\n",
       "      <th>int_memory</th>\n",
       "      <th>m_dep</th>\n",
       "      <th>mobile_wt</th>\n",
       "      <th>n_cores</th>\n",
       "      <th>...</th>\n",
       "      <th>px_height</th>\n",
       "      <th>px_width</th>\n",
       "      <th>ram</th>\n",
       "      <th>sc_h</th>\n",
       "      <th>sc_w</th>\n",
       "      <th>talk_time</th>\n",
       "      <th>three_g</th>\n",
       "      <th>touch_screen</th>\n",
       "      <th>wifi</th>\n",
       "      <th>Price</th>\n",
       "    </tr>\n",
       "  </thead>\n",
       "  <tbody>\n",
       "    <tr>\n",
       "      <td>0</td>\n",
       "      <td>842</td>\n",
       "      <td>0</td>\n",
       "      <td>2.2</td>\n",
       "      <td>0</td>\n",
       "      <td>1</td>\n",
       "      <td>0</td>\n",
       "      <td>7</td>\n",
       "      <td>0.6</td>\n",
       "      <td>188</td>\n",
       "      <td>2</td>\n",
       "      <td>...</td>\n",
       "      <td>20</td>\n",
       "      <td>756</td>\n",
       "      <td>2549</td>\n",
       "      <td>9</td>\n",
       "      <td>7</td>\n",
       "      <td>19</td>\n",
       "      <td>0</td>\n",
       "      <td>0</td>\n",
       "      <td>1</td>\n",
       "      <td>0.0</td>\n",
       "    </tr>\n",
       "    <tr>\n",
       "      <td>1</td>\n",
       "      <td>1021</td>\n",
       "      <td>1</td>\n",
       "      <td>0.5</td>\n",
       "      <td>1</td>\n",
       "      <td>0</td>\n",
       "      <td>1</td>\n",
       "      <td>53</td>\n",
       "      <td>0.7</td>\n",
       "      <td>136</td>\n",
       "      <td>3</td>\n",
       "      <td>...</td>\n",
       "      <td>905</td>\n",
       "      <td>1988</td>\n",
       "      <td>2631</td>\n",
       "      <td>17</td>\n",
       "      <td>3</td>\n",
       "      <td>7</td>\n",
       "      <td>1</td>\n",
       "      <td>1</td>\n",
       "      <td>0</td>\n",
       "      <td>1.0</td>\n",
       "    </tr>\n",
       "    <tr>\n",
       "      <td>2</td>\n",
       "      <td>563</td>\n",
       "      <td>1</td>\n",
       "      <td>0.5</td>\n",
       "      <td>1</td>\n",
       "      <td>2</td>\n",
       "      <td>1</td>\n",
       "      <td>41</td>\n",
       "      <td>0.9</td>\n",
       "      <td>145</td>\n",
       "      <td>5</td>\n",
       "      <td>...</td>\n",
       "      <td>1263</td>\n",
       "      <td>1716</td>\n",
       "      <td>2603</td>\n",
       "      <td>11</td>\n",
       "      <td>2</td>\n",
       "      <td>9</td>\n",
       "      <td>1</td>\n",
       "      <td>1</td>\n",
       "      <td>0</td>\n",
       "      <td>1.0</td>\n",
       "    </tr>\n",
       "    <tr>\n",
       "      <td>3</td>\n",
       "      <td>615</td>\n",
       "      <td>1</td>\n",
       "      <td>2.5</td>\n",
       "      <td>0</td>\n",
       "      <td>0</td>\n",
       "      <td>0</td>\n",
       "      <td>10</td>\n",
       "      <td>0.8</td>\n",
       "      <td>131</td>\n",
       "      <td>6</td>\n",
       "      <td>...</td>\n",
       "      <td>1216</td>\n",
       "      <td>1786</td>\n",
       "      <td>2769</td>\n",
       "      <td>16</td>\n",
       "      <td>8</td>\n",
       "      <td>11</td>\n",
       "      <td>1</td>\n",
       "      <td>0</td>\n",
       "      <td>0</td>\n",
       "      <td>1.0</td>\n",
       "    </tr>\n",
       "    <tr>\n",
       "      <td>4</td>\n",
       "      <td>1821</td>\n",
       "      <td>1</td>\n",
       "      <td>1.2</td>\n",
       "      <td>0</td>\n",
       "      <td>13</td>\n",
       "      <td>1</td>\n",
       "      <td>44</td>\n",
       "      <td>0.6</td>\n",
       "      <td>141</td>\n",
       "      <td>2</td>\n",
       "      <td>...</td>\n",
       "      <td>1208</td>\n",
       "      <td>1212</td>\n",
       "      <td>1411</td>\n",
       "      <td>8</td>\n",
       "      <td>2</td>\n",
       "      <td>15</td>\n",
       "      <td>1</td>\n",
       "      <td>1</td>\n",
       "      <td>0</td>\n",
       "      <td>0.0</td>\n",
       "    </tr>\n",
       "  </tbody>\n",
       "</table>\n",
       "<p>5 rows × 21 columns</p>\n",
       "</div>"
      ],
      "text/plain": [
       "   battery_power  blue  clock_speed  dual_sim  fc  four_g  int_memory  m_dep  \\\n",
       "0            842     0          2.2         0   1       0           7    0.6   \n",
       "1           1021     1          0.5         1   0       1          53    0.7   \n",
       "2            563     1          0.5         1   2       1          41    0.9   \n",
       "3            615     1          2.5         0   0       0          10    0.8   \n",
       "4           1821     1          1.2         0  13       1          44    0.6   \n",
       "\n",
       "   mobile_wt  n_cores  ...  px_height  px_width   ram  sc_h  sc_w  talk_time  \\\n",
       "0        188        2  ...         20       756  2549     9     7         19   \n",
       "1        136        3  ...        905      1988  2631    17     3          7   \n",
       "2        145        5  ...       1263      1716  2603    11     2          9   \n",
       "3        131        6  ...       1216      1786  2769    16     8         11   \n",
       "4        141        2  ...       1208      1212  1411     8     2         15   \n",
       "\n",
       "   three_g  touch_screen  wifi  Price  \n",
       "0        0             0     1    0.0  \n",
       "1        1             1     0    1.0  \n",
       "2        1             1     0    1.0  \n",
       "3        1             0     0    1.0  \n",
       "4        1             1     0    0.0  \n",
       "\n",
       "[5 rows x 21 columns]"
      ]
     },
     "execution_count": 62,
     "metadata": {},
     "output_type": "execute_result"
    }
   ],
   "source": [
    "df.head()"
   ]
  },
  {
   "cell_type": "code",
   "execution_count": 63,
   "metadata": {},
   "outputs": [
    {
     "data": {
      "text/html": [
       "<div>\n",
       "<style scoped>\n",
       "    .dataframe tbody tr th:only-of-type {\n",
       "        vertical-align: middle;\n",
       "    }\n",
       "\n",
       "    .dataframe tbody tr th {\n",
       "        vertical-align: top;\n",
       "    }\n",
       "\n",
       "    .dataframe thead th {\n",
       "        text-align: right;\n",
       "    }\n",
       "</style>\n",
       "<table border=\"1\" class=\"dataframe\">\n",
       "  <thead>\n",
       "    <tr style=\"text-align: right;\">\n",
       "      <th></th>\n",
       "      <th>battery_power</th>\n",
       "      <th>blue</th>\n",
       "      <th>clock_speed</th>\n",
       "      <th>dual_sim</th>\n",
       "      <th>fc</th>\n",
       "      <th>four_g</th>\n",
       "      <th>int_memory</th>\n",
       "      <th>m_dep</th>\n",
       "      <th>mobile_wt</th>\n",
       "      <th>n_cores</th>\n",
       "      <th>pc</th>\n",
       "      <th>px_height</th>\n",
       "      <th>px_width</th>\n",
       "      <th>ram</th>\n",
       "      <th>sc_h</th>\n",
       "      <th>sc_w</th>\n",
       "      <th>talk_time</th>\n",
       "      <th>three_g</th>\n",
       "      <th>touch_screen</th>\n",
       "      <th>wifi</th>\n",
       "    </tr>\n",
       "  </thead>\n",
       "  <tbody>\n",
       "    <tr>\n",
       "      <td>0</td>\n",
       "      <td>842</td>\n",
       "      <td>0</td>\n",
       "      <td>2.2</td>\n",
       "      <td>0</td>\n",
       "      <td>1</td>\n",
       "      <td>0</td>\n",
       "      <td>7</td>\n",
       "      <td>0.6</td>\n",
       "      <td>188</td>\n",
       "      <td>2</td>\n",
       "      <td>2</td>\n",
       "      <td>20</td>\n",
       "      <td>756</td>\n",
       "      <td>2549</td>\n",
       "      <td>9</td>\n",
       "      <td>7</td>\n",
       "      <td>19</td>\n",
       "      <td>0</td>\n",
       "      <td>0</td>\n",
       "      <td>1</td>\n",
       "    </tr>\n",
       "    <tr>\n",
       "      <td>1</td>\n",
       "      <td>1021</td>\n",
       "      <td>1</td>\n",
       "      <td>0.5</td>\n",
       "      <td>1</td>\n",
       "      <td>0</td>\n",
       "      <td>1</td>\n",
       "      <td>53</td>\n",
       "      <td>0.7</td>\n",
       "      <td>136</td>\n",
       "      <td>3</td>\n",
       "      <td>6</td>\n",
       "      <td>905</td>\n",
       "      <td>1988</td>\n",
       "      <td>2631</td>\n",
       "      <td>17</td>\n",
       "      <td>3</td>\n",
       "      <td>7</td>\n",
       "      <td>1</td>\n",
       "      <td>1</td>\n",
       "      <td>0</td>\n",
       "    </tr>\n",
       "    <tr>\n",
       "      <td>2</td>\n",
       "      <td>563</td>\n",
       "      <td>1</td>\n",
       "      <td>0.5</td>\n",
       "      <td>1</td>\n",
       "      <td>2</td>\n",
       "      <td>1</td>\n",
       "      <td>41</td>\n",
       "      <td>0.9</td>\n",
       "      <td>145</td>\n",
       "      <td>5</td>\n",
       "      <td>6</td>\n",
       "      <td>1263</td>\n",
       "      <td>1716</td>\n",
       "      <td>2603</td>\n",
       "      <td>11</td>\n",
       "      <td>2</td>\n",
       "      <td>9</td>\n",
       "      <td>1</td>\n",
       "      <td>1</td>\n",
       "      <td>0</td>\n",
       "    </tr>\n",
       "    <tr>\n",
       "      <td>3</td>\n",
       "      <td>615</td>\n",
       "      <td>1</td>\n",
       "      <td>2.5</td>\n",
       "      <td>0</td>\n",
       "      <td>0</td>\n",
       "      <td>0</td>\n",
       "      <td>10</td>\n",
       "      <td>0.8</td>\n",
       "      <td>131</td>\n",
       "      <td>6</td>\n",
       "      <td>9</td>\n",
       "      <td>1216</td>\n",
       "      <td>1786</td>\n",
       "      <td>2769</td>\n",
       "      <td>16</td>\n",
       "      <td>8</td>\n",
       "      <td>11</td>\n",
       "      <td>1</td>\n",
       "      <td>0</td>\n",
       "      <td>0</td>\n",
       "    </tr>\n",
       "    <tr>\n",
       "      <td>4</td>\n",
       "      <td>1821</td>\n",
       "      <td>1</td>\n",
       "      <td>1.2</td>\n",
       "      <td>0</td>\n",
       "      <td>13</td>\n",
       "      <td>1</td>\n",
       "      <td>44</td>\n",
       "      <td>0.6</td>\n",
       "      <td>141</td>\n",
       "      <td>2</td>\n",
       "      <td>14</td>\n",
       "      <td>1208</td>\n",
       "      <td>1212</td>\n",
       "      <td>1411</td>\n",
       "      <td>8</td>\n",
       "      <td>2</td>\n",
       "      <td>15</td>\n",
       "      <td>1</td>\n",
       "      <td>1</td>\n",
       "      <td>0</td>\n",
       "    </tr>\n",
       "    <tr>\n",
       "      <td>...</td>\n",
       "      <td>...</td>\n",
       "      <td>...</td>\n",
       "      <td>...</td>\n",
       "      <td>...</td>\n",
       "      <td>...</td>\n",
       "      <td>...</td>\n",
       "      <td>...</td>\n",
       "      <td>...</td>\n",
       "      <td>...</td>\n",
       "      <td>...</td>\n",
       "      <td>...</td>\n",
       "      <td>...</td>\n",
       "      <td>...</td>\n",
       "      <td>...</td>\n",
       "      <td>...</td>\n",
       "      <td>...</td>\n",
       "      <td>...</td>\n",
       "      <td>...</td>\n",
       "      <td>...</td>\n",
       "      <td>...</td>\n",
       "    </tr>\n",
       "    <tr>\n",
       "      <td>1995</td>\n",
       "      <td>794</td>\n",
       "      <td>1</td>\n",
       "      <td>0.5</td>\n",
       "      <td>1</td>\n",
       "      <td>0</td>\n",
       "      <td>1</td>\n",
       "      <td>2</td>\n",
       "      <td>0.8</td>\n",
       "      <td>106</td>\n",
       "      <td>6</td>\n",
       "      <td>14</td>\n",
       "      <td>1222</td>\n",
       "      <td>1890</td>\n",
       "      <td>668</td>\n",
       "      <td>13</td>\n",
       "      <td>4</td>\n",
       "      <td>19</td>\n",
       "      <td>1</td>\n",
       "      <td>1</td>\n",
       "      <td>0</td>\n",
       "    </tr>\n",
       "    <tr>\n",
       "      <td>1996</td>\n",
       "      <td>1965</td>\n",
       "      <td>1</td>\n",
       "      <td>2.6</td>\n",
       "      <td>1</td>\n",
       "      <td>0</td>\n",
       "      <td>0</td>\n",
       "      <td>39</td>\n",
       "      <td>0.2</td>\n",
       "      <td>187</td>\n",
       "      <td>4</td>\n",
       "      <td>3</td>\n",
       "      <td>915</td>\n",
       "      <td>1965</td>\n",
       "      <td>2032</td>\n",
       "      <td>11</td>\n",
       "      <td>10</td>\n",
       "      <td>16</td>\n",
       "      <td>1</td>\n",
       "      <td>1</td>\n",
       "      <td>1</td>\n",
       "    </tr>\n",
       "    <tr>\n",
       "      <td>1997</td>\n",
       "      <td>1911</td>\n",
       "      <td>0</td>\n",
       "      <td>0.9</td>\n",
       "      <td>1</td>\n",
       "      <td>1</td>\n",
       "      <td>1</td>\n",
       "      <td>36</td>\n",
       "      <td>0.7</td>\n",
       "      <td>108</td>\n",
       "      <td>8</td>\n",
       "      <td>3</td>\n",
       "      <td>868</td>\n",
       "      <td>1632</td>\n",
       "      <td>3057</td>\n",
       "      <td>9</td>\n",
       "      <td>1</td>\n",
       "      <td>5</td>\n",
       "      <td>1</td>\n",
       "      <td>1</td>\n",
       "      <td>0</td>\n",
       "    </tr>\n",
       "    <tr>\n",
       "      <td>1998</td>\n",
       "      <td>1512</td>\n",
       "      <td>0</td>\n",
       "      <td>0.9</td>\n",
       "      <td>0</td>\n",
       "      <td>4</td>\n",
       "      <td>1</td>\n",
       "      <td>46</td>\n",
       "      <td>0.1</td>\n",
       "      <td>145</td>\n",
       "      <td>5</td>\n",
       "      <td>5</td>\n",
       "      <td>336</td>\n",
       "      <td>670</td>\n",
       "      <td>869</td>\n",
       "      <td>18</td>\n",
       "      <td>10</td>\n",
       "      <td>19</td>\n",
       "      <td>1</td>\n",
       "      <td>1</td>\n",
       "      <td>1</td>\n",
       "    </tr>\n",
       "    <tr>\n",
       "      <td>1999</td>\n",
       "      <td>510</td>\n",
       "      <td>1</td>\n",
       "      <td>2.0</td>\n",
       "      <td>1</td>\n",
       "      <td>5</td>\n",
       "      <td>1</td>\n",
       "      <td>45</td>\n",
       "      <td>0.9</td>\n",
       "      <td>168</td>\n",
       "      <td>6</td>\n",
       "      <td>16</td>\n",
       "      <td>483</td>\n",
       "      <td>754</td>\n",
       "      <td>3919</td>\n",
       "      <td>19</td>\n",
       "      <td>4</td>\n",
       "      <td>2</td>\n",
       "      <td>1</td>\n",
       "      <td>1</td>\n",
       "      <td>1</td>\n",
       "    </tr>\n",
       "  </tbody>\n",
       "</table>\n",
       "<p>2000 rows × 20 columns</p>\n",
       "</div>"
      ],
      "text/plain": [
       "      battery_power  blue  clock_speed  dual_sim  fc  four_g  int_memory  \\\n",
       "0               842     0          2.2         0   1       0           7   \n",
       "1              1021     1          0.5         1   0       1          53   \n",
       "2               563     1          0.5         1   2       1          41   \n",
       "3               615     1          2.5         0   0       0          10   \n",
       "4              1821     1          1.2         0  13       1          44   \n",
       "...             ...   ...          ...       ...  ..     ...         ...   \n",
       "1995            794     1          0.5         1   0       1           2   \n",
       "1996           1965     1          2.6         1   0       0          39   \n",
       "1997           1911     0          0.9         1   1       1          36   \n",
       "1998           1512     0          0.9         0   4       1          46   \n",
       "1999            510     1          2.0         1   5       1          45   \n",
       "\n",
       "      m_dep  mobile_wt  n_cores  pc  px_height  px_width   ram  sc_h  sc_w  \\\n",
       "0       0.6        188        2   2         20       756  2549     9     7   \n",
       "1       0.7        136        3   6        905      1988  2631    17     3   \n",
       "2       0.9        145        5   6       1263      1716  2603    11     2   \n",
       "3       0.8        131        6   9       1216      1786  2769    16     8   \n",
       "4       0.6        141        2  14       1208      1212  1411     8     2   \n",
       "...     ...        ...      ...  ..        ...       ...   ...   ...   ...   \n",
       "1995    0.8        106        6  14       1222      1890   668    13     4   \n",
       "1996    0.2        187        4   3        915      1965  2032    11    10   \n",
       "1997    0.7        108        8   3        868      1632  3057     9     1   \n",
       "1998    0.1        145        5   5        336       670   869    18    10   \n",
       "1999    0.9        168        6  16        483       754  3919    19     4   \n",
       "\n",
       "      talk_time  three_g  touch_screen  wifi  \n",
       "0            19        0             0     1  \n",
       "1             7        1             1     0  \n",
       "2             9        1             1     0  \n",
       "3            11        1             0     0  \n",
       "4            15        1             1     0  \n",
       "...         ...      ...           ...   ...  \n",
       "1995         19        1             1     0  \n",
       "1996         16        1             1     1  \n",
       "1997          5        1             1     0  \n",
       "1998         19        1             1     1  \n",
       "1999          2        1             1     1  \n",
       "\n",
       "[2000 rows x 20 columns]"
      ]
     },
     "execution_count": 63,
     "metadata": {},
     "output_type": "execute_result"
    }
   ],
   "source": [
    "df.iloc[:, 0:-1]"
   ]
  },
  {
   "cell_type": "code",
   "execution_count": 64,
   "metadata": {},
   "outputs": [],
   "source": [
    "# defining feature matrix(X) and response vector(y) \n",
    "\n",
    "X = df.iloc[:, 0:-1]\n",
    "y = df[\"Price\"]\n",
    "  \n",
    "\n",
    "\n",
    "# splitting X and y into training and testing sets \n",
    "from sklearn.model_selection import train_test_split \n",
    "\n",
    "train_x, test_x, train_y, test_y = train_test_split(X, y, test_size=0.5,random_state=1) "
   ]
  },
  {
   "cell_type": "code",
   "execution_count": 65,
   "metadata": {},
   "outputs": [],
   "source": [
    "def org_results(trials, hyperparams, model_name):\n",
    "    fit_idx = -1\n",
    "    for idx, fit  in enumerate(trials):\n",
    "        hyp = fit['misc']['vals']\n",
    "        xgb_hyp = {key:[val] for key, val in hyperparams.items()}\n",
    "        if hyp == xgb_hyp:\n",
    "            fit_idx = idx\n",
    "            break\n",
    "            \n",
    "    train_time = str(trials[-1]['refresh_time'] - trials[0]['book_time'])\n",
    "    acc = round(trials[fit_idx]['result']['accuracy'], 3)\n",
    "    train_auc = round(trials[fit_idx]['result']['train auc'], 3)\n",
    "    test_auc = round(trials[fit_idx]['result']['test auc'], 3)\n",
    "\n",
    "    results = {\n",
    "        'model': model_name,\n",
    "        'parameter search time': train_time,\n",
    "        'accuracy': acc,\n",
    "        'test auc score': test_auc,\n",
    "        'training auc score': train_auc,\n",
    "        'parameters': hyperparams\n",
    "    }\n",
    "    return results"
   ]
  },
  {
   "cell_type": "code",
   "execution_count": 66,
   "metadata": {},
   "outputs": [
    {
     "name": "stdout",
     "output_type": "stream",
     "text": [
      "100%|██████████| 150/150 [01:53<00:00,  1.32it/s, best loss: 0.0020928218615690053]\n"
     ]
    },
    {
     "data": {
      "text/plain": [
       "{'model': 'XGBoost',\n",
       " 'parameter search time': '0:01:53.957000',\n",
       " 'accuracy': 0.974,\n",
       " 'test auc score': 0.998,\n",
       " 'training auc score': 1.0,\n",
       " 'parameters': {'colsample_bytree': 1.0,\n",
       "  'gamma': 0.5,\n",
       "  'learning_rate': 0.12307935650199768,\n",
       "  'm_child_weight': 1.0,\n",
       "  'max_depth': 2.0,\n",
       "  'n_estimators': 350.0,\n",
       "  'subsample': 0.55}}"
      ]
     },
     "metadata": {},
     "output_type": "display_data"
    }
   ],
   "source": [
    "def xgb_objective(space, early_stopping_rounds=50):\n",
    "    \n",
    "    model = XGBClassifier(\n",
    "        learning_rate = space['learning_rate'], \n",
    "        n_estimators = int(space['n_estimators']), \n",
    "        max_depth = int(space['max_depth']), \n",
    "        min_child_weight = space['m_child_weight'], \n",
    "        gamma = space['gamma'], \n",
    "        subsample = space['subsample'], \n",
    "        colsample_bytree = space['colsample_bytree'],\n",
    "        objective = 'binary:logistic'\n",
    "    )\n",
    "\n",
    "    model.fit(train_x, train_y, \n",
    "              eval_set = [(train_x, train_y), (test_x, test_y)],\n",
    "              eval_metric = 'auc',\n",
    "              early_stopping_rounds = early_stopping_rounds,\n",
    "              verbose = False)\n",
    "     \n",
    "    predictions = model.predict(test_x)\n",
    "    test_preds = model.predict_proba(test_x)[:,1]\n",
    "    train_preds = model.predict_proba(train_x)[:,1]\n",
    "    \n",
    "    xgb_booster = model.get_booster()\n",
    "    train_auc = roc_auc_score(train_y, train_preds)\n",
    "    test_auc = roc_auc_score(test_y, test_preds)\n",
    "    accuracy = accuracy_score(test_y, predictions) \n",
    "\n",
    "    return {'status': STATUS_OK, 'loss': 1-test_auc, 'accuracy': accuracy,\n",
    "            'test auc': test_auc, 'train auc': train_auc\n",
    "           }\n",
    "\n",
    "space = {\n",
    "    'n_estimators': hp.quniform('n_estimators', 50, 1000, 25),\n",
    "    'max_depth': hp.quniform('max_depth', 1, 12, 1),\n",
    "    'm_child_weight': hp.quniform('m_child_weight', 1, 6, 1),\n",
    "    'gamma': hp.quniform('gamma', 0.5, 1, 0.05),\n",
    "    'subsample': hp.quniform('subsample', 0.5, 1, 0.05),\n",
    "    'learning_rate': hp.loguniform('learning_rate', np.log(.001), np.log(.3)),\n",
    "    'colsample_bytree': hp.quniform('colsample_bytree', .5, 1, .1)\n",
    "}\n",
    "\n",
    "trials = Trials()\n",
    "xgb_hyperparams = fmin(fn = xgb_objective, \n",
    "                 max_evals = 150, \n",
    "                 trials = trials,\n",
    "                 algo = tpe.suggest,\n",
    "                 space = space\n",
    "                 )\n",
    "\n",
    "xgb_results = org_results(trials.trials, xgb_hyperparams, 'XGBoost')\n",
    "display(xgb_results)"
   ]
  },
  {
   "cell_type": "code",
   "execution_count": null,
   "metadata": {},
   "outputs": [],
   "source": []
  }
 ],
 "metadata": {
  "kernelspec": {
   "display_name": "Python 3",
   "language": "python",
   "name": "python3"
  },
  "language_info": {
   "codemirror_mode": {
    "name": "ipython",
    "version": 3
   },
   "file_extension": ".py",
   "mimetype": "text/x-python",
   "name": "python",
   "nbconvert_exporter": "python",
   "pygments_lexer": "ipython3",
   "version": "3.7.4"
  }
 },
 "nbformat": 4,
 "nbformat_minor": 2
}
